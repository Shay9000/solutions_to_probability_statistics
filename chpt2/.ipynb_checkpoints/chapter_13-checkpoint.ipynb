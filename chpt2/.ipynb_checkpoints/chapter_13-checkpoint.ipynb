{
 "cells": [
  {
   "cell_type": "code",
   "execution_count": 1,
   "metadata": {},
   "outputs": [
    {
     "data": {
      "text/html": [
       "\n",
       "<style>\n",
       "\n",
       "div.cell { /* Tunes the space between cells */\n",
       "margin-top:1em;\n",
       "margin-bottom:1em;\n",
       "}\n",
       "\n",
       "div.text_cell_render h1 { /* Main titles bigger, centered */\n",
       "font-size: 2.2em;\n",
       "line-height:1.4em;\n",
       "text-align:center;\n",
       "}\n",
       "\n",
       "div.text_cell_render h2 { /*  Parts names nearer from text */\n",
       "margin-bottom: -0.4em;\n",
       "}\n",
       "\n",
       "\n",
       "div.text_cell_render { /* Customize text cells */\n",
       "font-family: 'Times New Roman';\n",
       "font-size:1.em;\n",
       "line-height:1.4em;\n",
       "padding-left:3em;\n",
       "padding-right:3em;\n",
       "}\n",
       "</style>\n"
      ],
      "text/plain": [
       "<IPython.core.display.HTML object>"
      ]
     },
     "execution_count": 1,
     "metadata": {},
     "output_type": "execute_result"
    }
   ],
   "source": [
    "from IPython.core.display import HTML\n",
    "HTML(\"\"\"\n",
    "<style>\n",
    "\n",
    "div.cell { /* Tunes the space between cells */\n",
    "margin-top:1em;\n",
    "margin-bottom:1em;\n",
    "}\n",
    "\n",
    "div.text_cell_render h1 { /* Main titles bigger, centered */\n",
    "font-size: 2.2em;\n",
    "line-height:1.4em;\n",
    "text-align:center;\n",
    "}\n",
    "\n",
    "div.text_cell_render h2 { /*  Parts names nearer from text */\n",
    "margin-bottom: -0.4em;\n",
    "}\n",
    "\n",
    "\n",
    "div.text_cell_render { /* Customize text cells */\n",
    "font-family: 'Times New Roman';\n",
    "font-size:1.em;\n",
    "line-height:1.4em;\n",
    "padding-left:3em;\n",
    "padding-right:3em;\n",
    "}\n",
    "</style>\n",
    "\"\"\")\n"
   ]
  },
  {
   "cell_type": "code",
   "execution_count": 2,
   "metadata": {},
   "outputs": [],
   "source": [
    "#import some relevant packages and plot inline\n",
    "import matplotlib.pyplot as plt\n",
    "import numpy as np\n",
    "%matplotlib inline"
   ]
  },
  {
   "cell_type": "markdown",
   "metadata": {},
   "source": [
    "**Example 1.** (Bernoulli) Simulate tossing a coin with probability of heads p. \n",
    "> *Solution:*  We can utilize the algorithm presented in the book, which uses random variables drawn from a $Unif(0,1)$ distribution.  The following function implements this algorithm in Python to generate a $Bern(p)$ (pseudo) random variable.\n",
    "\n"
   ]
  },
  {
   "cell_type": "code",
   "execution_count": 194,
   "metadata": {},
   "outputs": [],
   "source": [
    "def draw_bern(p):\n",
    "    \"\"\"\n",
    "    A Bern(p) pseudo-RNG\n",
    "    \"\"\"\n",
    "    U = np.random.uniform()\n",
    "    X = int(U < p)\n",
    "    \n",
    "    return X"
   ]
  },
  {
   "cell_type": "code",
   "execution_count": 195,
   "metadata": {},
   "outputs": [],
   "source": [
    "#define a function to print several of the RGNs to the screen\n",
    "\n",
    "def print_vals(RNG_function, *args):\n",
    "    for i in range(5):\n",
    "        print('X_' + str(i)+' = ', RNG_function(*args))"
   ]
  },
  {
   "cell_type": "code",
   "execution_count": 201,
   "metadata": {},
   "outputs": [
    {
     "name": "stdout",
     "output_type": "stream",
     "text": [
      "X_0 =  1\n",
      "X_1 =  0\n",
      "X_2 =  1\n",
      "X_3 =  0\n",
      "X_4 =  0\n"
     ]
    }
   ],
   "source": [
    "#print a few examples of the RGNs to the screen\n",
    "p = 0.5\n",
    "\n",
    "print_vals(draw_bern, p)"
   ]
  },
  {
   "cell_type": "markdown",
   "metadata": {},
   "source": [
    "Note that we can directly sample from a $Bern(p)$ distribution with Numpy's binomial random number generator (RNG) by setting $n=1$ with:\n",
    "`np.random.binomial(1, p)`.\n"
   ]
  },
  {
   "cell_type": "markdown",
   "metadata": {},
   "source": [
    "**Example 2.** (Coin Toss Simulation) Write code to simulate tossing a fair coin to see how the law of large numbers works.\n",
    "> *Solution:*  I first write a plotting function I will use throughout the rest of this chapter."
   ]
  },
  {
   "cell_type": "code",
   "execution_count": 169,
   "metadata": {},
   "outputs": [],
   "source": [
    "#plotting function\n",
    "def plot_figure(x, y, xtitle, ytitle, title=None, xlim=None, ylim=None):\n",
    "\n",
    "    plt.figure(1, figsize = (7, 5))\n",
    "    plt.rc('text', usetex=True)\n",
    "    plt.rc('font', family = 'serif')\n",
    "    \n",
    "    plt.plot(x, y, linewidth = 2)\n",
    "    \n",
    "    if not xlim is None:\n",
    "        plt.xlim(xlim)\n",
    "    if not ylim is None:\n",
    "        plt.ylim(ylim)\n",
    "    if not title is None:\n",
    "        plt.title(title)\n",
    "    \n",
    "    plt.xlabel(xtitle, size = 20)\n",
    "    plt.ylabel(ytitle, size = 20)\n",
    "\n",
    "    plt.xticks(fontsize = 15)\n",
    "    plt.yticks(fontsize = 15);"
   ]
  },
  {
   "cell_type": "code",
   "execution_count": 170,
   "metadata": {},
   "outputs": [
    {
     "data": {
      "image/png": "[encoded data removed]",
      "text/plain": [
       "<matplotlib.figure.Figure at 0x1132ee5f8>"
      ]
     },
     "metadata": {},
     "output_type": "display_data"
    }
   ],
   "source": [
    "#set a seed for reproducibility \n",
    "np.random.seed(2)\n",
    "\n",
    "N = 1000\n",
    "p = 0.5\n",
    "U = np.random.uniform(0, 1, 1000)\n",
    "U = (U < p) + 0\n",
    "avg = np.cumsum(U)/(np.arange(N) + 1)\n",
    "\n",
    "plot_figure(np.arange(N) + 1, avg, r'$N$', 'Proportion of heads')\n",
    "\n",
    "#reset seed\n",
    "np.random.seed(0) "
   ]
  },
  {
   "cell_type": "markdown",
   "metadata": {},
   "source": [
    "**Example 3.** (Binomial) Generate a $Bin(50, 0.2)$ random variable.\n",
    "> *Solution:* If $X_1,X_2, \\ldots,X_n$ are drawn $iid$ from a $Bern(p)$ distribution, then we can express a $Bin(n, p)$ random variable as $X = X_1+X_2+ \\ldots +X_n$.  Therefore we can utilize the code we have already written for drawing a $Bern(p)$ random variable to draw a $Bin(n, p)$ random variable."
   ]
  },
  {
   "cell_type": "code",
   "execution_count": 199,
   "metadata": {},
   "outputs": [],
   "source": [
    "def draw_bin(n, p):\n",
    "    \"\"\"\n",
    "    A Bin(n, p) pseudo-RNG\n",
    "    \"\"\"\n",
    "    U = np.random.uniform(0, 1, n)\n",
    "    X = np.sum(U < p)\n",
    "    \n",
    "    return X"
   ]
  },
  {
   "cell_type": "code",
   "execution_count": 202,
   "metadata": {},
   "outputs": [
    {
     "name": "stdout",
     "output_type": "stream",
     "text": [
      "X_0 =  11\n",
      "X_1 =  13\n",
      "X_2 =  16\n",
      "X_3 =  12\n",
      "X_4 =  9\n"
     ]
    }
   ],
   "source": [
    "#print a few examples of the RGNs to the screen\n",
    "n = 50\n",
    "p = 0.2\n",
    "\n",
    "print_vals(draw_bin, n, p)"
   ]
  },
  {
   "cell_type": "markdown",
   "metadata": {},
   "source": [
    "Note that we can directly sample from a $Bin(n, p)$ distribution with Numpy's binomial RNG with:\n",
    "`np.random.binomial(n, p)`."
   ]
  },
  {
   "cell_type": "markdown",
   "metadata": {},
   "source": [
    "**Example 4.** Write an algorithm to simulate the value of a random variable X such that:\n",
    "\\begin{equation}  \n",
    "    P_X(x) = \n",
    "    \\begin{cases}\n",
    "        0.35 & \\text{for $x = 1$} \\\\\n",
    "        0.15 & \\text{for $x = 2$} \\\\\n",
    "        0.4 & \\text{for $x = 3$} \\\\\n",
    "        0.1 & \\text{for $x = 4$}\n",
    "    \\end{cases} \n",
    "\\end{equation}\n",
    "> *Solution:*  We can utilize the algorithm presented in the book which divides the unit interval into 4 partitioned sets and uses a uniformly drawn random variable."
   ]
  },
  {
   "cell_type": "code",
   "execution_count": 203,
   "metadata": {},
   "outputs": [],
   "source": [
    "def draw_general_discrete(P, R_X):\n",
    "    \"\"\"\n",
    "    A pseudo-RNG for any arbitrary discrete PMF specified by R_X and corresponding probabilities P\n",
    "    \"\"\"\n",
    "    F_X = np.cumsum([0] + P)\n",
    "    U = np.random.uniform(0, 1)\n",
    "    X = R_X[np.sum(U > F_X)-1]\n",
    "\n",
    "    #take care of edge case where U = 0\n",
    "    if U == 0: \n",
    "        X = R_X[0]\n",
    "        \n",
    "    return X"
   ]
  },
  {
   "cell_type": "code",
   "execution_count": 204,
   "metadata": {},
   "outputs": [
    {
     "name": "stdout",
     "output_type": "stream",
     "text": [
      "X_0 =  3\n",
      "X_1 =  4\n",
      "X_2 =  1\n",
      "X_3 =  3\n",
      "X_4 =  2\n"
     ]
    }
   ],
   "source": [
    "#print a few examples of the RGNs to the screen\n",
    "P = [0.35, 0.15, 0.4, .1]\n",
    "R_X = [1, 2, 3, 4]\n",
    "\n",
    "print_vals(draw_general_discrete, P, R_X)"
   ]
  },
  {
   "cell_type": "markdown",
   "metadata": {},
   "source": [
    "Note that we can directly sample from a discrete PMF using Numpy's multinomial RNG.  A multinomial distribution is the $k$ dimensional analogue of a binomial distribution, where $k>2$.  The multinomial distribution is a distribution over random vectors, $\\boldsymbol{X}$ (of size $k$), where the entries in the vectors can take on values from $0, 1, \\ldots n$, subject to $X_1+X_2+\\ldots+ X_k = n$, where $X_i$ represents the $i^{th}$ component of $\\boldsymbol X$.\n",
    "\n",
    "If a binomial random variable represents the number of heads we flip out of $n$ coin tosses (where the probability of heads is $p$), then a multinomial random variable represents the number of times we roll a 1, the number of times we roll a 2, $\\ldots$, the number of times we roll a k, when rolling a $k$ sided die $n$ times.  For each roll, the probability of rolling the $i^{th}$ face of the die is $p_i$ (where $\\sum_{i=1}^k p_i =1$).  We store the value for the number times we roll the $i^{th}$ face of the die in $X_i$.  To denote a random vector drawn from a multinomial distribution, the notation, $\\boldsymbol{X}\\sim Mult(n, \\boldsymbol{p})$, is typical, where $\\boldsymbol{p}$ denotes the $k$ dimensional vector with the $i^{th}$ component of $\\boldsymbol{p}$ given by $p_i$.\n",
    "\n",
    "To directly sample from a discrete PMF with (ordered) range array `R_X` and associated probability array `P` we can use Numpy's multinomial RNG method by setting $n=1$ (one roll).  To sample one time we can use the code: `X = R_X[np.argmax(np.random.multinomial(1, pvals=P))]`, and to sample `n` times, we can use the code: `X = [R_X[np.argmax(x)] for x in np.random.multinomial(1, pvals=P, size=n)]`.\n",
    "\n",
    "Additionally, to sample from an arbitrary discrete PMF, we can use Numpy's choice method, which samples randomly from a specified list, where each entry in the list is sampled according to a specified probability.  To sample `N` values from an array `R_X`, with corresponding probability array `P`, we can use the code: `X = np.random.choice(R_X, size=N, replace=True, p=P)`.  Make sure to specify `replace=True` to sample with replacement.\n"
   ]
  },
  {
   "cell_type": "markdown",
   "metadata": {},
   "source": [
    "**Example 5.** (Exponential) Generate an $Exp(1)$ random variable.\n",
    "> *Solution:*  Using the method of inverse transformation, as shown in the book, for a strictly increasing CDF, $F$, the random variable $X = F^{-1}(U)$, where $U \\sim Unif(0,1)$, has distribution $X\\sim F$.  Therefore, it is not difficult to show that,\n",
    "\\begin{equation}\n",
    "    \\frac{1}{\\lambda} \\ln (U) \\sim Exp(\\lambda),\n",
    "\\end{equation}\n",
    "where the fact that $1-U\\sim Unif(0,1)$ has been used.\n"
   ]
  },
  {
   "cell_type": "code",
   "execution_count": 212,
   "metadata": {},
   "outputs": [],
   "source": [
    "def draw_exp(lam):\n",
    "    \"\"\"\n",
    "    An Exp(lambda) pseudo-RNG\n",
    "    \"\"\"\n",
    "    U = np.random.uniform(0, 1)\n",
    "    X = (-1/lam)*np.log(U)\n",
    "    \n",
    "    return X"
   ]
  },
  {
   "cell_type": "code",
   "execution_count": 214,
   "metadata": {},
   "outputs": [
    {
     "name": "stdout",
     "output_type": "stream",
     "text": [
      "X_0 =  0.927830254504\n",
      "X_1 =  1.46709392962\n",
      "X_2 =  1.06708404167\n",
      "X_3 =  0.0530877965351\n",
      "X_4 =  1.22904842985\n"
     ]
    }
   ],
   "source": [
    "#print a few examples of the RGNs to the screen\n",
    "lam = 1\n",
    "\n",
    "print_vals(draw_exp, lam)"
   ]
  },
  {
   "cell_type": "markdown",
   "metadata": {},
   "source": [
    "**Example 6.** (Gamma) Generate a $Gamma(20,1)$ random variable.\n",
    "> *Solution:*  If  $X_1, X_2, \\ldots, X_n$ are drawn iid from an $Exp(\\lambda)$ distribution, then $Y = X_1+X_2+ \\ldots+ X_n \\sim Gamma(n, \\lambda)$.  Therefore, to generate a $Gamma(n, \\lambda)$ random variable, we need only to generate $n$ independent $Exp(\\lambda)$ random variables and add them."
   ]
  },
  {
   "cell_type": "code",
   "execution_count": 222,
   "metadata": {},
   "outputs": [],
   "source": [
    "def draw_gamma(n, lam):\n",
    "    \"\"\"\n",
    "    A Gamma(n, lambda) pseudo-RNG\n",
    "    \"\"\"\n",
    "    U = np.random.uniform(0, 1, size = n)\n",
    "    X = np.sum((-1/lam)*np.log(U))\n",
    "    \n",
    "    return X"
   ]
  },
  {
   "cell_type": "code",
   "execution_count": 223,
   "metadata": {},
   "outputs": [
    {
     "name": "stdout",
     "output_type": "stream",
     "text": [
      "X_0 =  12.6875960118\n",
      "X_1 =  17.0014281892\n",
      "X_2 =  27.3169673711\n",
      "X_3 =  18.052693439\n",
      "X_4 =  17.4422595581\n"
     ]
    }
   ],
   "source": [
    "#print a few examples of the RGNs to the screen\n",
    "n = 20\n",
    "lam = 1\n",
    "\n",
    "print_vals(draw_gamma, n, lam)"
   ]
  },
  {
   "cell_type": "code",
   "execution_count": 224,
   "metadata": {},
   "outputs": [],
   "source": [
    "########plot all generated distributions for N=1000 and overplot the actual distributions for comparison"
   ]
  },
  {
   "cell_type": "code",
   "execution_count": null,
   "metadata": {},
   "outputs": [],
   "source": [
    "######### plot the KL divergence for my generated distributions (vs. the actual) as a function of N, and Numpy's own\n",
    "######### generated distributions (as well as printing out total computation time) for comparison (plot standard errors\n",
    "######### as well.)  scipy.stats.entropy(pk, qk)"
   ]
  }
 ],
 "metadata": {
  "kernelspec": {
   "display_name": "Python 3",
   "language": "python",
   "name": "python3"
  },
  "language_info": {
   "codemirror_mode": {
    "name": "ipython",
    "version": 3
   },
   "file_extension": ".py",
   "mimetype": "text/x-python",
   "name": "python",
   "nbconvert_exporter": "python",
   "pygments_lexer": "ipython3",
   "version": "3.5.3"
  }
 },
 "nbformat": 4,
 "nbformat_minor": 2
}
