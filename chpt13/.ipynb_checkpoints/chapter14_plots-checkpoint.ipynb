{
 "cells": [
  {
   "cell_type": "code",
   "execution_count": 1,
   "metadata": {},
   "outputs": [],
   "source": [
    "import matplotlib.mlab as mlab\n",
    "import matplotlib.pyplot as plt\n",
    "import numpy as np\n",
    "from scipy.special import binom\n",
    "%matplotlib inline"
   ]
  },
  {
   "cell_type": "code",
   "execution_count": 76,
   "metadata": {},
   "outputs": [],
   "source": [
    "\n",
    "def p_rec(n_arr, p):\n",
    "\n",
    "    P_arr_rec= [1, 1-p, (1-p)**2, (1-p)**3+p**3]\n",
    "\n",
    "    for _ in n_arr[4:]:\n",
    "        P_new=P_arr_rec[-3]*(6*p**2-6*p+1)-3*p**2+3*p\n",
    "        P_new=P_arr_rec[-3]*p**3+P_arr_rec[-3]*(1-p)**3+3*(1-P_arr_rec[-3])*p**2*(1-p)+3*(1-P_arr_rec[-3])*p*(1-p)**2\n",
    "        P_new=P_arr_rec[-1]*(1-2*p)+p\n",
    "        P_arr_rec.append(P_new)\n",
    "    return P_arr_rec\n",
    "\n",
    "def p_binom(n_arr, p):\n",
    "    P_arr_binom=[]\n",
    "    for n in n_arr:\n",
    "        P = np.sum(np.array([binom(n, 3*i)*(p**(3*i))*((1-p)**(n-3*i)) for i in np.arange(0, np.floor(n/3.)+1)]))\n",
    "        P_arr_binom.append(P)\n",
    "    return P_arr_binom\n",
    "    "
   ]
  },
  {
   "cell_type": "code",
   "execution_count": 77,
   "metadata": {},
   "outputs": [],
   "source": [
    "n_arr = np.arange(0, 41)\n",
    "p_arr=[1/4, 1/2, 3/4]\n",
    "\n",
    "pr=[]\n",
    "pb=[]\n",
    "for p in p_arr:\n",
    "    P_arr_rec = p_rec(n_arr, p)\n",
    "    P_arr_binom = p_binom(n_arr, p)\n",
    "    pr.append(P_arr_rec)\n",
    "    pb.append(P_arr_binom)\n",
    "\n"
   ]
  },
  {
   "cell_type": "code",
   "execution_count": 80,
   "metadata": {},
   "outputs": [
    {
     "data": {
      "text/plain": [
       "array([ 1.        ,  0.5       ,  0.25      ,  0.25      ,  0.3125    ,\n",
       "        0.34375   ,  0.34375   ,  0.3359375 ,  0.33203125,  0.33203125,\n",
       "        0.33300781,  0.33349609,  0.33349609,  0.33337402,  0.33331299,\n",
       "        0.33331299,  0.33332825,  0.33333588,  0.33333588,  0.33333397,\n",
       "        0.33333302,  0.33333302,  0.33333325,  0.33333337,  0.33333337,\n",
       "        0.33333334,  0.33333333,  0.33333333,  0.33333333,  0.33333333,\n",
       "        0.33333333,  0.33333333,  0.33333333,  0.33333333,  0.33333333,\n",
       "        0.33333333,  0.33333333,  0.33333333,  0.33333333,  0.33333333,\n",
       "        0.33333333])"
      ]
     },
     "execution_count": 80,
     "metadata": {},
     "output_type": "execute_result"
    }
   ],
   "source": [
    "np.array(pr[1])\n",
    "np.array(pb[1])"
   ]
  },
  {
   "cell_type": "code",
   "execution_count": 71,
   "metadata": {},
   "outputs": [
    {
     "data": {
      "text/plain": [
       "array([ 0.,  1.,  2.,  3.])"
      ]
     },
     "execution_count": 71,
     "metadata": {},
     "output_type": "execute_result"
    }
   ],
   "source": [
    "\n",
    "np.arange(0, np.floor(10/3.)+1)"
   ]
  },
  {
   "cell_type": "code",
   "execution_count": 69,
   "metadata": {},
   "outputs": [
    {
     "data": {
      "text/plain": [
       "array([ 0,  1,  2,  3,  4,  5,  6,  7,  8,  9, 10, 11, 12, 13, 14, 15, 16,\n",
       "       17, 18, 19, 20, 21, 22, 23, 24, 25, 26, 27, 28, 29, 30, 31, 32, 33,\n",
       "       34, 35, 36, 37, 38, 39, 40])"
      ]
     },
     "execution_count": 69,
     "metadata": {},
     "output_type": "execute_result"
    },
    {
     "data": {
      "image/png": "[encoded data removed]",
      "text/plain": [
       "<matplotlib.figure.Figure at 0x10cc433c8>"
      ]
     },
     "metadata": {},
     "output_type": "display_data"
    }
   ],
   "source": [
    "plt.scatter(n_arr, pb[1])\n",
    "\n",
    "\n",
    "n_arr\n",
    "#plt.tight_layout()\n",
    "\n",
    "#plt.savefig('prob13.pdf', format='pdf');"
   ]
  },
  {
   "cell_type": "code",
   "execution_count": 51,
   "metadata": {},
   "outputs": [
    {
     "data": {
      "text/plain": [
       "1.0"
      ]
     },
     "execution_count": 51,
     "metadata": {},
     "output_type": "execute_result"
    }
   ],
   "source": [
    "n=0\n",
    "p=.5\n",
    "\n",
    "np.sum(np.array([binom(n, 3*i)*(p**(3*i))*((1-p)**(n-3*i)) for i in np.arange(0, np.floor(n/3.)+1)]))"
   ]
  },
  {
   "cell_type": "code",
   "execution_count": 53,
   "metadata": {},
   "outputs": [
    {
     "data": {
      "text/plain": [
       "array([ 1,  2,  3,  4,  5,  6,  7,  8,  9, 10, 11, 12, 13, 14, 15, 16, 17,\n",
       "       18, 19, 20, 21, 22, 23, 24, 25, 26, 27, 28, 29, 30, 31, 32, 33, 34,\n",
       "       35, 36, 37, 38, 39, 40])"
      ]
     },
     "execution_count": 53,
     "metadata": {},
     "output_type": "execute_result"
    }
   ],
   "source": [
    "n_arr"
   ]
  },
  {
   "cell_type": "code",
   "execution_count": null,
   "metadata": {},
   "outputs": [],
   "source": []
  }
 ],
 "metadata": {
  "kernelspec": {
   "display_name": "Python 3",
   "language": "python",
   "name": "python3"
  },
  "language_info": {
   "codemirror_mode": {
    "name": "ipython",
    "version": 3
   },
   "file_extension": ".py",
   "mimetype": "text/x-python",
   "name": "python",
   "nbconvert_exporter": "python",
   "pygments_lexer": "ipython3",
   "version": "3.5.3"
  }
 },
 "nbformat": 4,
 "nbformat_minor": 2
}
