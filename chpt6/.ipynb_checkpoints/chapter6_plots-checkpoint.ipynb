{
 "cells": [
  {
   "cell_type": "code",
   "execution_count": 1,
   "metadata": {},
   "outputs": [],
   "source": [
    "import matplotlib.mlab as mlab\n",
    "import matplotlib.pyplot as plt\n",
    "import numpy as np\n",
    "%matplotlib inline"
   ]
  },
  {
   "cell_type": "code",
   "execution_count": 33,
   "metadata": {},
   "outputs": [
    {
     "data": {
      "image/png": "[encoded data removed]",
      "text/plain": [
       "<matplotlib.figure.Figure at 0x10b00d9e8>"
      ]
     },
     "metadata": {},
     "output_type": "display_data"
    }
   ],
   "source": [
    "f, (ax1, ax2) = plt.subplots(1, 2, figsize=(10, 4))\n",
    "plt.rc('text', usetex=True)\n",
    "plt.rc('font', family='serif')\n",
    "\n",
    "p=np.linspace(0.001, 1, 1000)\n",
    "\n",
    "a=1\n",
    "ax1.plot(p, 1/(p*a), color='blue', linewidth=2, label='Markov upper bound')\n",
    "ax1.plot(p, (1-p)**(a-1), color='orange', linewidth=2, label='Exact')\n",
    "ax1.set_title('$a = 1$', size=20)\n",
    "ax1.legend(loc='upper right')\n",
    "ax1.set_xlim((0, 1.))\n",
    "ax1.set_ylim((0, 10.))\n",
    "ax1.set_xlabel('$p$', size=20)\n",
    "ax1.set_ylabel('$P(X \\ge a)$', size=20)\n",
    "ax1.xaxis.set_tick_params(labelsize=15)\n",
    "ax1.yaxis.set_tick_params(labelsize=15)\n",
    "\n",
    "\n",
    "a=2\n",
    "ax2.plot(p, 1/(p*a), color='blue', linewidth=2, label='Markov upper bound')\n",
    "ax2.plot(p, (1-p)**(a-1), color='orange', linewidth=2, label='Exact')\n",
    "ax2.set_title('$a = 2$', size=20)\n",
    "ax2.legend(loc='upper right')\n",
    "ax2.set_xlim((0, 1.))\n",
    "ax2.set_ylim((0, 10.))\n",
    "ax2.set_xlabel('$p$', size=20)\n",
    "ax2.set_ylabel('$P(X \\ge a)$', size=20)\n",
    "ax2.xaxis.set_tick_params(labelsize=15)\n",
    "ax2.yaxis.set_tick_params(labelsize=15)\n",
    "\n",
    "\n",
    "\n",
    "plt.tight_layout()\n",
    "plt.savefig('prob19.pdf', format='pdf');"
   ]
  },
  {
   "cell_type": "code",
   "execution_count": 50,
   "metadata": {},
   "outputs": [
    {
     "name": "stderr",
     "output_type": "stream",
     "text": [
      "/Users/rubind/anaconda/lib/python3.5/site-packages/ipykernel_launcher.py:1: RuntimeWarning: invalid value encountered in sqrt\n",
      "  \"\"\"Entry point for launching an IPython kernel.\n"
     ]
    },
    {
     "data": {
      "image/png": "[encoded data removed]",
      "text/latex": [
       "$$100$$"
      ],
      "text/plain": [
       "100"
      ]
     },
     "execution_count": 50,
     "metadata": {},
     "output_type": "execute_result"
    }
   ],
   "source": [
    "len(yj-np.sqrt(r**2-(xj-x)**2))\n",
    "len(x)"
   ]
  },
  {
   "cell_type": "code",
   "execution_count": 167,
   "metadata": {},
   "outputs": [
    {
     "data": {
      "image/png": "[encoded data removed]",
      "text/plain": [
       "<matplotlib.figure.Figure at 0x10cc32e48>"
      ]
     },
     "metadata": {},
     "output_type": "display_data"
    }
   ],
   "source": [
    "plt.rc('text', usetex=True)\n",
    "plt.rc('font', family='serif')\n",
    "\n",
    "fig, ax1 = plt.subplots(nrows=1, figsize=(6, 6))\n",
    "\n",
    "ax1.spines['right'].set_visible(False)\n",
    "ax1.spines['top'].set_visible(False)\n",
    "# Only show ticks on the left and bottom spines\n",
    "ax1.yaxis.set_ticks_position('left')\n",
    "ax1.xaxis.set_ticks_position('bottom')\n",
    "\n",
    "\n",
    "y1=np.linspace(0, 1, 1000)\n",
    "x1=np.zeros(1000)+1\n",
    "ax1.plot(x1, y1, color='black', linewidth=1)\n",
    "\n",
    "y2=np.zeros(1000)+1\n",
    "x2=np.linspace(0, 1, 1000)\n",
    "ax1.plot(x2, y2, color='black', linewidth=1)\n",
    "\n",
    "ax1.set_xlabel(r'$x_1$', size=30)\n",
    "ax1.set_ylabel(r'$y_1$', size=30)\n",
    "ax1.set_xticks([0, 1])\n",
    "ax1.set_xticklabels(['0', '1'], fontsize=15)\n",
    "ax1.set_yticks([0, 1])\n",
    "ax1.set_yticklabels(['0', '1'], fontsize=15)\n",
    "\n",
    "ax1.set_xlim((0, 1.25))\n",
    "ax1.set_ylim((0, 1.25))\n",
    "\n",
    "xj=.8\n",
    "yj=.6\n",
    "r=.1\n",
    "x=np.linspace(xj-r, xj+r, 100)\n",
    "ax1.fill_between(x, yj-np.sqrt(r**2-(xj-x)**2), yj+np.sqrt(r**2-(xj-x)**2), facecolor='grey', alpha=.5)\n",
    "\n",
    "xj=0\n",
    "yj=0\n",
    "r=.1\n",
    "x=np.linspace(xj-r, xj+r, 100)\n",
    "ax1.fill_between(x, yj-np.sqrt(r**2-(xj-x)**2), yj+np.sqrt(r**2-(xj-x)**2), facecolor='grey', alpha=.5)\n",
    "\n",
    "ax1.annotate(r'.', xy=(.6, .6),  xycoords='data',\n",
    "            xytext=(.643, 0.523), textcoords='axes fraction',\n",
    "            horizontalalignment='center', verticalalignment='center', size=70,rotation=0\n",
    "            )\n",
    "\n",
    "ax1.annotate(r'$(x_j, y_j)$', xy=(.6, .6),  xycoords='data',\n",
    "            xytext=(.645, 0.45), textcoords='axes fraction',\n",
    "            horizontalalignment='center', verticalalignment='center', size=10,rotation=0\n",
    "            )\n",
    "\n",
    "\n",
    "ax1.annotate(r'.', xy=(0.5, 0.5),  xycoords='data',\n",
    "            xytext=(0.001, 0.042), textcoords='axes fraction',\n",
    "            horizontalalignment='center', verticalalignment='center', size=70,rotation=0\n",
    "            )\n",
    "\n",
    "ax1.annotate(r'$(x_j, y_j)$', xy=(.6, .6),  xycoords='data',\n",
    "            xytext=(.04, 0.03), textcoords='axes fraction',\n",
    "            horizontalalignment='center', verticalalignment='center', size=10,rotation=0\n",
    "            )\n",
    "\n",
    "#ax.annotate('a polar annotation',\n",
    "#            xy=(thistheta, thisr),  # theta, radius\n",
    "#            xytext=(0.05, 0.05),    # fraction, fraction\n",
    "#            textcoords='figure fraction',\n",
    "#            arrowprops=dict(facecolor='black', shrink=0.05),\n",
    "#            horizontalalignment='left',\n",
    "#            verticalalignment='bottom',\n",
    "#            )\n",
    "\n",
    "\n",
    "\n",
    "plt.tight_layout()\n",
    "\n",
    "plt.savefig('prob18.pdf', format='pdf');"
   ]
  },
  {
   "cell_type": "code",
   "execution_count": null,
   "metadata": {},
   "outputs": [],
   "source": []
  }
 ],
 "metadata": {
  "kernelspec": {
   "display_name": "Python 3",
   "language": "python",
   "name": "python3"
  },
  "language_info": {
   "codemirror_mode": {
    "name": "ipython",
    "version": 3
   },
   "file_extension": ".py",
   "mimetype": "text/x-python",
   "name": "python",
   "nbconvert_exporter": "python",
   "pygments_lexer": "ipython3",
   "version": "3.5.3"
  }
 },
 "nbformat": 4,
 "nbformat_minor": 2
}
