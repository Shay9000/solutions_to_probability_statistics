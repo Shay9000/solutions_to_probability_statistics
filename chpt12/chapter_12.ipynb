{
 "cells": [
  {
   "cell_type": "markdown",
   "metadata": {},
   "source": [
    "The Python programming language is one of the most popular languages in both academia and industry.  It is heavily used in data science for simple data analysis and complex machine learning.  By most accounts, in the last few years, Python has eclipsed the R programming language in popularity for scientific/statistical computation.  Its popularity is due to intuitive and readable syntax that can be implemented in a powerful object oriented programming paradigm, if so desired, as well as being open source.  It is for these reasons that I decided to transcribe the Introduction to Simulation chapter in Pishro Nik's Introduction to Probability, Statistics and Random Processes book into Python.\n",
    "\n",
    "This entire chapter was written in a Jupyter notebook, an interactive programming environment primarily for Python, that can be run locally in a web browser. Jupyter notebooks are ideal for quick and interactive data analysis, incorporating markdown functionality for clean presentations and code sharing.  If you are a fan of Rstudio, you will most likely be fond of Jupyter notebooks.  This entire notebook is available freely at [https://www.google.com](https://www.google.com).  \n",
    "\n",
    "Additionally, much of this code was written using the Numpy/SciPy library, Python's main library for scientific computation and numerical mathematics.  Numpy has a relatively clear and well documented API ([https://docs.scipy.org/doc/numpy/reference/index.html](https://docs.scipy.org/doc/numpy/reference/index.html)), a reference which I utilize almost daily.\n",
    "\n",
    "I start with a few basic imports, and define several functions I will use throughout the rest of this chapter."
   ]
  },
  {
   "cell_type": "code",
   "execution_count": 810,
   "metadata": {},
   "outputs": [
    {
     "data": {
      "text/html": [
       "<style>.indented { padding-left: 0pt; padding-right: 0pt; } div.cell { /* Tunes the space between cells */margin-top:1em;margin-bottom:1em;}div.text_cell_render h1 { /* Main titles bigger, centered */font-size: 2.2em;line-height:1.4em;text-align:left;}div.text_cell_render h2 { /*  Parts names nearer from text */margin-bottom: -0.4em;}div.text_cell_render { /* Customize text cells */font-family: 'Times New Roman';font-size:1.em;line-height:1.4em;padding-left:3em;padding-right:3em;}</style>"
      ],
      "text/plain": [
       "<IPython.core.display.HTML object>"
      ]
     },
     "execution_count": 810,
     "metadata": {},
     "output_type": "execute_result"
    }
   ],
   "source": [
    "#define html style element for notebook formatting\n",
    "from IPython.core.display import HTML\n",
    "\n",
    "with open('style.txt', 'r') as myfile:\n",
    "    notebook_style = myfile.read().replace('\\n', '')\n",
    "\n",
    "HTML(notebook_style)"
   ]
  },
  {
   "cell_type": "code",
   "execution_count": 811,
   "metadata": {},
   "outputs": [],
   "source": [
    "#import some relevant packages and plot inline\n",
    "import matplotlib.pyplot as plt\n",
    "import numpy as np\n",
    "%matplotlib inline"
   ]
  },
  {
   "cell_type": "code",
   "execution_count": 812,
   "metadata": {},
   "outputs": [],
   "source": [
    "#define a few functions I will be using throughout the rest of the notebook\n",
    "\n",
    "#function to print several of the RGNs to the screen\n",
    "def print_vals(RNG_function, *args):\n",
    "    for i in range(5):\n",
    "        print('X_' + str(i)+' = ', RNG_function(*args))"
   ]
  },
  {
   "cell_type": "code",
   "execution_count": 813,
   "metadata": {},
   "outputs": [],
   "source": [
    "#plotting function\n",
    "def plot_results(x, y, xlim=None, ylim=None, xlabel=None, ylabel=None, \\\n",
    "                 title=None, labels=None):\n",
    "    \n",
    "    plt.figure(1, figsize = (6, 4))\n",
    "    plt.rc('text', usetex=True)\n",
    "    plt.rc('font', family = 'serif')\n",
    "    \n",
    "    if labels:\n",
    "        plt.plot(x[0], y[0], label=labels[0], linewidth = 2)\n",
    "        plt.plot(x[1], y[1], label=labels[1], linewidth = 2)\n",
    "        plt.legend(loc='upper right')\n",
    "    else:\n",
    "        plt.plot(x, y, linewidth = 2)\n",
    "    if xlim:\n",
    "        plt.xlim(xlim)\n",
    "    if ylim:\n",
    "        plt.ylim(ylim)\n",
    "    if xlabel:\n",
    "        plt.xlabel(xlabel, size = 15)\n",
    "    if ylabel:\n",
    "        plt.ylabel(ylabel, size = 15)\n",
    "    if title:\n",
    "        plt.title(title, size=15)\n",
    "    \n",
    "    plt.xticks(fontsize = 15)\n",
    "    plt.yticks(fontsize = 15);"
   ]
  },
  {
   "cell_type": "markdown",
   "metadata": {},
   "source": [
    " **Example 1.** (Bernoulli) Simulate tossing a coin with probability of heads p.\n",
    "\n",
    "> *Solution:*  We can utilize the algorithm presented in the book, which uses random variables drawn from a $Unif(0,1)$ distribution.  The following function implements this algorithm in Python to generate a $Bern(p)$ (pseudo) random variable."
   ]
  },
  {
   "cell_type": "code",
   "execution_count": 814,
   "metadata": {},
   "outputs": [],
   "source": [
    "def draw_bern(p, N):\n",
    "    \"\"\"\n",
    "    A Bern(p) pseudo-RNG\n",
    "    \"\"\"\n",
    "    U = np.random.uniform(size = N)\n",
    "    if N == 1: U = U[0]\n",
    "    X = (U < p) + 0\n",
    "    \n",
    "    return X"
   ]
  },
  {
   "cell_type": "code",
   "execution_count": 815,
   "metadata": {},
   "outputs": [
    {
     "name": "stdout",
     "output_type": "stream",
     "text": [
      "X_0 =  0\n",
      "X_1 =  0\n",
      "X_2 =  0\n",
      "X_3 =  0\n",
      "X_4 =  1\n"
     ]
    }
   ],
   "source": [
    "#print a few examples of the RGNs to the screen\n",
    "p = 0.5\n",
    "print_vals(draw_bern, p, 1)"
   ]
  },
  {
   "cell_type": "markdown",
   "metadata": {},
   "source": [
    "Note that we can directly sample from a $Bern(p)$ distribution with Numpy's binomial random number generator (RNG) by setting $n=1$ with: `np.random.binomial(1, p)`.\n",
    "\n",
    "**Example 2.** (Coin Toss Simulation) Write code to simulate tossing a fair coin to see how the law of large numbers works.\n",
    "\n",
    "> *Solution:*  I draw 1000 $Bern(0.5)$ random variables and compute the cumulative average."
   ]
  },
  {
   "cell_type": "code",
   "execution_count": 816,
   "metadata": {},
   "outputs": [
    {
     "data": {
      "image/png": "[encoded data removed]",
      "text/plain": [
       "<matplotlib.figure.Figure at 0x108e17ef0>"
      ]
     },
     "metadata": {},
     "output_type": "display_data"
    }
   ],
   "source": [
    "#generate data, compute proportion of heads and plot\n",
    "\n",
    "#set a seed for reproducibility \n",
    "np.random.seed(2)\n",
    "\n",
    "X = draw_bern(0.5, 1000)\n",
    "avg = np.cumsum(X)/(np.arange(1000) + 1)\n",
    "plot_results(np.arange(1000) + 1, avg, xlabel='$N$', ylabel='Proportion of heads')\n",
    "\n",
    "#reset seed\n",
    "np.random.seed(0) "
   ]
  },
  {
   "cell_type": "markdown",
   "metadata": {},
   "source": [
    "**Example 3.** (Binomial) Generate a $Bin(50, 0.2)$ random variable.\n",
    "\n",
    "> *Solution:* If $X_1,X_2, \\ldots,X_n$ are drawn $iid$ from a $Bern(p)$ distribution, then we can express a $Bin(n, p)$ random variable as $X = X_1+X_2+ \\ldots +X_n$.  Therefore we can utilize the code we have already written for drawing a $Bern(p)$ random variable to draw a $Bin(n, p)$ random variable."
   ]
  },
  {
   "cell_type": "code",
   "execution_count": 817,
   "metadata": {},
   "outputs": [],
   "source": [
    "def draw_bin(n, p, N):\n",
    "    \"\"\"\n",
    "    A Bin(n, p) pseudo-RNG\n",
    "    \"\"\"\n",
    "    if N > 1:\n",
    "        U = np.random.uniform(0, 1, (N, n))\n",
    "        X = np.sum(U < p, axis = 1)\n",
    "\n",
    "    else:\n",
    "        U = np.random.uniform(0, 1, n)\n",
    "        X = np.sum(U < p)\n",
    "    \n",
    "    return X"
   ]
  },
  {
   "cell_type": "code",
   "execution_count": 818,
   "metadata": {},
   "outputs": [
    {
     "name": "stdout",
     "output_type": "stream",
     "text": [
      "X_0 =  8\n",
      "X_1 =  17\n",
      "X_2 =  3\n",
      "X_3 =  13\n",
      "X_4 =  10\n"
     ]
    }
   ],
   "source": [
    "#print a few examples of the RGNs to the screen\n",
    "n = 50\n",
    "p = 0.2\n",
    "print_vals(draw_bin, n, p, 1)"
   ]
  },
  {
   "cell_type": "markdown",
   "metadata": {},
   "source": [
    "Note that we can directly sample from a $Bin(n, p)$ distribution with Numpy's binomial RNG with:\n",
    "`np.random.binomial(n, p)`."
   ]
  },
  {
   "cell_type": "markdown",
   "metadata": {},
   "source": [
    "**Example 4.** Write an algorithm to simulate the value of a random variable X such that:\n",
    "\\begin{equation}  \n",
    "    P_X(x) = \n",
    "    \\begin{cases}\n",
    "        0.35 & \\text{for $x = 1$} \\\\\n",
    "        0.15 & \\text{for $x = 2$} \\\\\n",
    "        0.4 & \\text{for $x = 3$} \\\\\n",
    "        0.1 & \\text{for $x = 4$}.\n",
    "    \\end{cases} \n",
    "\\end{equation}\n",
    "\n",
    "> *Solution:*  We can utilize the algorithm presented in the book which divides the unit interval into 4 partitioned sets and uses a uniformly drawn random variable."
   ]
  },
  {
   "cell_type": "code",
   "execution_count": 819,
   "metadata": {},
   "outputs": [],
   "source": [
    "def draw_general_discrete(P, R_X, N):\n",
    "    \"\"\"\n",
    "    A pseudo-RNG for any arbitrary discrete PMF specified by R_X and \n",
    "    corresponding probabilities P\n",
    "    \"\"\"\n",
    "    F_X = np.cumsum([0] + P)\n",
    "    \n",
    "    X_arr = []\n",
    "    U_arr = np.random.uniform(0, 1, size = N)\n",
    "    for U in U_arr:\n",
    "        X = R_X[np.sum(U > F_X)-1]\n",
    "\n",
    "        #take care of edge case where U = 0\n",
    "        if U == 0: \n",
    "            X = R_X[0]\n",
    "        X_arr.append(X)\n",
    "    if N == 1: X_arr = X_arr[0]\n",
    "        \n",
    "    return X_arr"
   ]
  },
  {
   "cell_type": "code",
   "execution_count": 820,
   "metadata": {},
   "outputs": [
    {
     "name": "stdout",
     "output_type": "stream",
     "text": [
      "X_0 =  2\n",
      "X_1 =  4\n",
      "X_2 =  3\n",
      "X_3 =  3\n",
      "X_4 =  4\n"
     ]
    }
   ],
   "source": [
    "#print a few examples of the RGNs to the screen\n",
    "P = [0.35, 0.15, 0.4, .1]\n",
    "R_X = [1, 2, 3, 4]\n",
    "print_vals(draw_general_discrete, P, R_X, 1)"
   ]
  },
  {
   "cell_type": "markdown",
   "metadata": {},
   "source": [
    "Note that we can directly sample from a discrete PMF using Numpy's multinomial RNG.  A multinomial distribution is the $k$ dimensional analogue of a binomial distribution, where $k>2$.  The multinomial distribution is a distribution over random vectors, $\\boldsymbol{X}$ (of size $k$), where the entries in the vectors can take on values from $0, 1, \\ldots n$, subject to $X_1+X_2+\\ldots+ X_k = n$, where $X_i$ represents the $i^{th}$ component of $\\boldsymbol X$.\n",
    "\n",
    "If a binomial random variable represents the number of heads we flip out of $n$ coin tosses (where the probability of heads is $p$), then a multinomial random variable represents the number of times we roll a 1, the number of times we roll a 2, $\\ldots$, the number of times we roll a k, when rolling a $k$ sided die $n$ times.  For each roll, the probability of rolling the $i^{th}$ face of the die is $p_i$ (where $\\sum_{i=1}^k p_i =1$).  We store the value for the number times we roll the $i^{th}$ face of the die in $X_i$.  To denote a random vector drawn from a multinomial distribution, the notation, $\\boldsymbol{X}\\sim Mult(n, \\boldsymbol{p})$, is typical, where $\\boldsymbol{p}$ denotes the $k$ dimensional vector with the $i^{th}$ component of $\\boldsymbol{p}$ given by $p_i$.\n",
    "\n",
    "To directly sample from a discrete PMF with (ordered) range array `R_X` and associated probability array `P` we can use Numpy's multinomial RNG function by setting $n=1$ (one roll).  To sample one time we can use the code: `X = R_X[np.argmax(np.random.multinomial(1, pvals=P))]`, and to sample `N` times, we can use the code: `X = [R_X[np.argmax(x)] for x in np.random.multinomial(1, pvals=P, size=N)]`.\n",
    "\n",
    "Additionally, to sample from an arbitrary discrete PMF, we can use Numpy's choice function, which samples randomly from a specified list, where each entry in the list is sampled according to a specified probability.  To sample `N` values from an array `R_X`, with corresponding probability array `P`, we can use the code: `X = np.random.choice(R_X, size=N, replace=True, p=P)`.  Make sure to specify `replace=True` to sample with replacement.\n"
   ]
  },
  {
   "cell_type": "markdown",
   "metadata": {},
   "source": [
    "**Example 5.** (Exponential) Generate an $Exp(1)$ random variable.\n",
    "\n",
    "> *Solution:*  Using the method of inverse transformation, as shown in the book, for a strictly increasing CDF, $F$, the random variable $X = F^{-1}(U)$, where $U \\sim Unif(0,1)$, has distribution $X\\sim F$.  Therefore, it is not difficult to show that,\n",
    "\\begin{equation}\n",
    "    -\\frac{1}{\\lambda} \\ln (U) \\sim Exp(\\lambda),\n",
    "\\end{equation}\n",
    "where the fact that $1-U\\sim Unif(0,1)$ has been used.\n"
   ]
  },
  {
   "cell_type": "code",
   "execution_count": 821,
   "metadata": {},
   "outputs": [],
   "source": [
    "def draw_exp(lam, N):\n",
    "    \"\"\"\n",
    "    An Exp(lambda) pseudo-RNG using the method of inverse transformation\n",
    "    \"\"\"\n",
    "    U = np.random.uniform(0, 1, size = N)\n",
    "    if N == 1:\n",
    "        U = U[0]\n",
    "    X = (-1/lam)*np.log(U)\n",
    "    \n",
    "    return X"
   ]
  },
  {
   "cell_type": "code",
   "execution_count": 822,
   "metadata": {},
   "outputs": [
    {
     "name": "stdout",
     "output_type": "stream",
     "text": [
      "X_0 =  2.4838379957\n",
      "X_1 =  0.593858616083\n",
      "X_2 =  0.53703944167\n",
      "X_3 =  0.0388069650697\n",
      "X_4 =  1.23049637556\n"
     ]
    }
   ],
   "source": [
    "#print a few examples of the RGNs to the screen\n",
    "lam = 1\n",
    "print_vals(draw_exp, lam, 1)"
   ]
  },
  {
   "cell_type": "markdown",
   "metadata": {},
   "source": [
    "**Example 6.** (Gamma) Generate a $Gamma(20,1)$ random variable.\n",
    "\n",
    "> *Solution:*  If  $X_1, X_2, \\ldots, X_n$ are drawn iid from an $Exp(\\lambda)$ distribution, then $Y = X_1+X_2+ \\ldots+ X_n \\sim Gamma(n, \\lambda)$.  Therefore, to generate a $Gamma(n, \\lambda)$ random variable, we need only to generate $n$ independent $Exp(\\lambda)$ random variables and add them."
   ]
  },
  {
   "cell_type": "code",
   "execution_count": 823,
   "metadata": {},
   "outputs": [],
   "source": [
    "def draw_gamma(alpha, lam, N):\n",
    "    \"\"\"\n",
    "    A Gamma(n, lambda) pseudo-RNG using the method of inverse transformation\n",
    "    \"\"\"\n",
    "    n = alpha\n",
    "    if N > 1:\n",
    "        U = np.random.uniform(0, 1, size = (N, n))\n",
    "        X = np.sum((-1/lam)*np.log(U), axis = 1)\n",
    "    \n",
    "    else:\n",
    "        U = np.random.uniform(0, 1, size = n)\n",
    "        X = np.sum((-1/lam)*np.log(U))\n",
    "    \n",
    "    return X"
   ]
  },
  {
   "cell_type": "code",
   "execution_count": 824,
   "metadata": {},
   "outputs": [
    {
     "name": "stdout",
     "output_type": "stream",
     "text": [
      "X_0 =  17.4925086879\n",
      "X_1 =  20.6155480241\n",
      "X_2 =  26.9115218192\n",
      "X_3 =  22.3654600391\n",
      "X_4 =  22.331744631\n"
     ]
    }
   ],
   "source": [
    "#print a few examples of the RGNs to the screen\n",
    "alpha = 20\n",
    "lam = 1\n",
    "print_vals(draw_gamma, alpha, lam, 1)"
   ]
  },
  {
   "cell_type": "markdown",
   "metadata": {},
   "source": [
    "**Example 7**. (Poisson) Generate a Poisson random variable. Hint: In this example, use the fact\n",
    "that the number of events in the interval $[0, t]$ has Poisson distribution when the elapsed times\n",
    "between the events are Exponential.\n",
    "\n",
    "> *Solution:*  As shown in the book, we need only to continuously generate $Exp(\\lambda)$ variables and count the number of draws it takes for the sum to be greater than 1.  The Poisson random variable is then the count minus 1."
   ]
  },
  {
   "cell_type": "code",
   "execution_count": 825,
   "metadata": {},
   "outputs": [],
   "source": [
    "def draw_poiss(lam, N):\n",
    "    \"\"\"\n",
    "    A Poiss(lambda) pseudo-RNG\n",
    "    \"\"\"\n",
    "    X_list = []\n",
    "    \n",
    "    for _ in range(N):\n",
    "        summ = 0\n",
    "        count = 0\n",
    "        while summ <= 1:\n",
    "            summ += draw_exp(lam, 1)\n",
    "            count += 1\n",
    "        X_list.append(count-1)\n",
    "\n",
    "    if  N == 1: \n",
    "        return X_list[0]\n",
    "    else: \n",
    "        return X_list"
   ]
  },
  {
   "cell_type": "code",
   "execution_count": 826,
   "metadata": {},
   "outputs": [
    {
     "name": "stdout",
     "output_type": "stream",
     "text": [
      "X_0 =  0\n",
      "X_1 =  2\n",
      "X_2 =  2\n",
      "X_3 =  1\n",
      "X_4 =  2\n"
     ]
    }
   ],
   "source": [
    "#print a few examples of the RGNs to the screen\n",
    "lam = 1\n",
    "print_vals(draw_poiss, lam, 1)"
   ]
  },
  {
   "cell_type": "markdown",
   "metadata": {},
   "source": [
    "Note that we can directly sample from a $Poiss(\\lambda)$ distributions with Numpy's: `np.random.poisson(lam)` function.\n",
    "\n"
   ]
  },
  {
   "cell_type": "markdown",
   "metadata": {},
   "source": [
    "**Example 8.**  (Box-Muller) Generate 5000 pairs of normal random variables and plot both\n",
    "histograms.\n",
    "> *Solution*: Using the Box-Muller transformation as described in the book:"
   ]
  },
  {
   "cell_type": "code",
   "execution_count": 827,
   "metadata": {},
   "outputs": [],
   "source": [
    "def draw_gaus_pairs(N):\n",
    "    \"\"\"\n",
    "    An N(0, 1) pseudo-RNG to draw N pairs of indepedent using the Box-Muller \n",
    "    transformation\n",
    "    \"\"\"\n",
    "    U1 = np.random.uniform(size = N)\n",
    "    U2 = np.random.uniform(size = N)\n",
    "\n",
    "    Z1 = np.sqrt(-2*np.log(U1))*np.cos(2*np.pi*U2)\n",
    "    Z2 = np.sqrt(-2*np.log(U1))*np.sin(2*np.pi*U2)\n",
    "\n",
    "\n",
    "    return (Z1, Z2)"
   ]
  },
  {
   "cell_type": "code",
   "execution_count": 828,
   "metadata": {},
   "outputs": [
    {
     "name": "stdout",
     "output_type": "stream",
     "text": [
      "(Z_1, Z_2)_0 = ( 0.722134435205 -0.189448731182 )\n",
      "(Z_1, Z_2)_1 = ( -0.918558147113 0.247330492682 )\n",
      "(Z_1, Z_2)_2 = ( -1.42078058592 -0.914027516141 )\n",
      "(Z_1, Z_2)_3 = ( 1.19799155228 -1.49105841693 )\n",
      "(Z_1, Z_2)_4 = ( -0.65055423687 0.179187077215 )\n"
     ]
    }
   ],
   "source": [
    "#print a few examples of the RGNs to the screen\n",
    "Z1_arr, Z2_arr = draw_gaus_pairs(5)\n",
    "\n",
    "for i, (Z1, Z2) in enumerate(zip(Z1_arr, Z2_arr)):\n",
    "    print('(Z_1, Z_2)_' + str(i)+' = (', Z1, Z2, ')')"
   ]
  },
  {
   "cell_type": "markdown",
   "metadata": {},
   "source": [
    "In addition to plotting the histograms (plot in the first panel below) I also make a scatter plot of the 2 Gaussian random variables.  The Box-Muller method produces pairs of independent random variables, and indeed, in the plot we see a bivariate Normal distribution with no correlation, i.e., it is an axis-aligned (recall that independence $\\implies \\rho = 0$).  I further compute the correlation coefficient between $Z_1$ and $Z_2$ and it is indeed very close to 0."
   ]
  },
  {
   "cell_type": "code",
   "execution_count": 829,
   "metadata": {},
   "outputs": [
    {
     "name": "stdout",
     "output_type": "stream",
     "text": [
      "correlation coefficient =  0.0177349514518\n"
     ]
    },
    {
     "data": {
      "image/png": "[encoded data removed]",
      "text/plain": [
       "<matplotlib.figure.Figure at 0x10b327978>"
      ]
     },
     "metadata": {},
     "output_type": "display_data"
    }
   ],
   "source": [
    "#plot the histograms and scatter plot\n",
    "\n",
    "#set seed for reproducibility \n",
    "np.random.seed(8)\n",
    "\n",
    "#generate data\n",
    "Z1_arr, Z2_arr = draw_gaus_pairs(5000)\n",
    "\n",
    "#plot histograms\n",
    "f, (ax1, ax2) = plt.subplots(1, 2, figsize=(10, 4))\n",
    "\n",
    "bins = np.linspace(-5, 5, 50)\n",
    "ax1.hist(Z1_arr, bins, alpha=0.5, normed=1, label='$Z_1$', edgecolor = 'black')\n",
    "ax1.hist(Z2_arr, bins, alpha=0.5, normed=1, label='$Z_2$', edgecolor = 'black')\n",
    "ax1.legend(loc='upper right')\n",
    "ax1.set_xlabel('$Z$', size = 15)\n",
    "ax1.set_ylabel('Probability Density', size = 15)\n",
    "ax1.tick_params(labelsize=15)\n",
    "\n",
    "#plot scatter plot\n",
    "ax2.scatter(Z1_arr, Z2_arr, s=2)\n",
    "ax2.set_xlabel('$Z_1$', size = 15)\n",
    "ax2.set_ylabel('$Z_2$', size = 15)\n",
    "ax2.set_ylim((-4, 4))\n",
    "ax2.set_xlim((-4, 4))\n",
    "ax2.tick_params(labelsize=15)\n",
    "\n",
    "print('correlation coefficient = ', np.corrcoef(Z1_arr, Z2_arr)[0, 1])\n",
    "\n",
    "#reset seed\n",
    "np.random.seed(0)"
   ]
  },
  {
   "cell_type": "markdown",
   "metadata": {},
   "source": [
    "Note that we can directly sample from a $\\mathcal N(0, 1)$ distribution with Numpy's normal RNG with: `np.random.randn(d0, d1, ..., dn)`, where `d0`, `d1`, ..., `dn` are the dimensions of the desired output array.\n"
   ]
  },
  {
   "cell_type": "markdown",
   "metadata": {},
   "source": [
    "**Exercise 1**. Write Python programs to generate $Geom(p)$ and $Pascal(m, p)$ random variables.\n",
    "\n",
    "> *Solution*: As in the book, I generate $Bern(p)$ random variables until the first success and count the number of draws to generate a $Geom(p)$ random variable.  To generate a $Pascal(m, p)$ random variable, I generate $Bern(p)$ random variables until I obtain $m$ successes and count the number of draws."
   ]
  },
  {
   "cell_type": "code",
   "execution_count": 830,
   "metadata": {},
   "outputs": [],
   "source": [
    "def draw_geom(p, N):\n",
    "    \"\"\"\n",
    "    A Geom(p) pseudo-RNG\n",
    "    \"\"\"\n",
    "    X_list = []\n",
    "    for _ in range(N):\n",
    "\n",
    "        count = 0\n",
    "        X = 0\n",
    "        while X == 0:\n",
    "            X = draw_bern(p, 1)\n",
    "            count += 1\n",
    "        X_list.append(count)\n",
    "\n",
    "    if  N == 1: \n",
    "        return X_list[0]\n",
    "    else: \n",
    "        return X_list\n"
   ]
  },
  {
   "cell_type": "code",
   "execution_count": 831,
   "metadata": {},
   "outputs": [
    {
     "name": "stdout",
     "output_type": "stream",
     "text": [
      "X_0 =  15\n",
      "X_1 =  1\n",
      "X_2 =  1\n",
      "X_3 =  8\n",
      "X_4 =  2\n"
     ]
    }
   ],
   "source": [
    "#print a few examples of the RGNs to the screen\n",
    "p = 0.2\n",
    "print_vals(draw_geom, p, 1)"
   ]
  },
  {
   "cell_type": "code",
   "execution_count": 832,
   "metadata": {},
   "outputs": [],
   "source": [
    "def draw_pascal(m, p, N):\n",
    "    \"\"\"\n",
    "    A Pascal(m, p) pseudo-RNG\n",
    "    \"\"\"\n",
    "    X_list = []\n",
    "    for _ in range(N):\n",
    "        count_succ = 0\n",
    "        count = 0\n",
    "        while count_succ < m:\n",
    "            X = draw_bern(p, 1)\n",
    "            count_succ += X\n",
    "            count += 1\n",
    "        X_list.append(count)\n",
    "            \n",
    "    if  N == 1: \n",
    "        return X_list[0]\n",
    "    else: \n",
    "        return X_list"
   ]
  },
  {
   "cell_type": "code",
   "execution_count": 833,
   "metadata": {},
   "outputs": [
    {
     "name": "stdout",
     "output_type": "stream",
     "text": [
      "X_0 =  17\n",
      "X_1 =  10\n",
      "X_2 =  7\n",
      "X_3 =  3\n",
      "X_4 =  4\n"
     ]
    }
   ],
   "source": [
    "#print a few examples of the RGNs to the screen\n",
    "p = 0.2\n",
    "m=2\n",
    "print_vals(draw_pascal, m, p, 1)"
   ]
  },
  {
   "cell_type": "markdown",
   "metadata": {},
   "source": [
    "Note that we can directly sample from $Geom(p)$ and $Pascal(m, p)$ distributions with Numpy's: `np.random.geometric(p)` and `np.random.negative_binomial(n, p)` functions respectively."
   ]
  },
  {
   "cell_type": "markdown",
   "metadata": {},
   "source": [
    "**Exercise 2**. (Poisson) Use the algorithm for generating discrete random variables to obtain a Poisson\n",
    "random variable with parameter $\\lambda = 2$.\n",
    "\n",
    "> *Solution*:"
   ]
  },
  {
   "cell_type": "code",
   "execution_count": 834,
   "metadata": {},
   "outputs": [],
   "source": [
    "from scipy.misc import factorial\n",
    "\n",
    "def draw_poiss2(lam, N):\n",
    "    \"\"\"\n",
    "    A Poiss(lambda) pseudo-RNG using the method to generate an \n",
    "    arbitrary discrete random variable\n",
    "    \"\"\"\n",
    "    X_list = []\n",
    "    for _ in range(N):\n",
    "        P = np.exp(-lam)\n",
    "        i = 0\n",
    "        U = np.random.uniform()\n",
    "        while U >= P:\n",
    "            i += 1\n",
    "            P += np.exp(-lam)*lam**i/(factorial(i)+0)\n",
    "\n",
    "        X_list.append(i)\n",
    "\n",
    "    if  N == 1: \n",
    "        return X_list[0]\n",
    "    else: \n",
    "        return X_list"
   ]
  },
  {
   "cell_type": "code",
   "execution_count": 835,
   "metadata": {},
   "outputs": [
    {
     "name": "stdout",
     "output_type": "stream",
     "text": [
      "X_0 =  3\n",
      "X_1 =  0\n",
      "X_2 =  5\n",
      "X_3 =  2\n",
      "X_4 =  5\n"
     ]
    }
   ],
   "source": [
    "#print a few examples of the RGNs to the screen\n",
    "lam = 2\n",
    "print_vals(draw_poiss2, 2, 1)"
   ]
  },
  {
   "cell_type": "markdown",
   "metadata": {},
   "source": [
    "**Exercise 3**. Explain how to generate a random variable with the density\n",
    "\\begin{equation}\n",
    "    f(x) = 2.5x\\sqrt{x}\n",
    "\\end{equation}\n",
    "for $0 < x < 1$.\n",
    "\n",
    "> *Solution*: The CDF is given by $F_X(x) = 2.5\\int_0^{x} {x^\\prime}^{3/2}dx^\\prime = x^{5/2}$, and therefore $F_X^{-1}(x) = x^{2/5}$.  Using the method of inverse transformation, if $U\\sim Unif(0, 1)$, then $F_X^{-1}(U)$ is distributed according to the desired distribution.\n",
    "\n",
    "\n",
    "\n"
   ]
  },
  {
   "cell_type": "code",
   "execution_count": 836,
   "metadata": {},
   "outputs": [],
   "source": [
    "def draw_dist3():\n",
    "    \"\"\"\n",
    "    A pseudo-RNG for the distribution in Exercise 3\n",
    "    \"\"\"\n",
    "    U = np.random.uniform()\n",
    "    return U**(0.4)"
   ]
  },
  {
   "cell_type": "code",
   "execution_count": 837,
   "metadata": {},
   "outputs": [
    {
     "name": "stdout",
     "output_type": "stream",
     "text": [
      "X_0 =  0.8178201131579468\n",
      "X_1 =  0.8861754700680049\n",
      "X_2 =  0.27369087549414306\n",
      "X_3 =  0.6033871249144047\n",
      "X_4 =  0.4285059109745954\n"
     ]
    }
   ],
   "source": [
    "#print a few examples of the RGNs to the screen\n",
    "print_vals(draw_dist3)"
   ]
  },
  {
   "cell_type": "markdown",
   "metadata": {},
   "source": [
    "**Exercise 4**. Use the inverse transformation method to generate a random variable having distribution\n",
    "function\n",
    "\\begin{equation}\n",
    "F_X(x) = \\frac{x^2+x}{2},\n",
    "\\end{equation}\n",
    "for $0 \\le x \\le 1$.\n",
    "\n",
    "> *Solution*: By inverting the CDF, we have that.\n",
    "\\begin{equation}\n",
    "F_X^{-1}(x) = -\\frac{1}{2} +\\sqrt{\\frac{1}{4}+2x},\n",
    "\\end{equation}\n",
    "for $0 \\le x \\le 1$.\n"
   ]
  },
  {
   "cell_type": "code",
   "execution_count": 838,
   "metadata": {},
   "outputs": [],
   "source": [
    "def draw_dist4():\n",
    "    \"\"\"\n",
    "    A pseudo-RNG for the distribution in Exercise 4\n",
    "    \"\"\"\n",
    "    U = np.random.uniform()\n",
    "    return -0.5 + np.sqrt(0.25 + 2*U)"
   ]
  },
  {
   "cell_type": "code",
   "execution_count": 839,
   "metadata": {},
   "outputs": [
    {
     "name": "stdout",
     "output_type": "stream",
     "text": [
      "X_0 =  0.417758353296\n",
      "X_1 =  0.198180089883\n",
      "X_2 =  0.441257859881\n",
      "X_3 =  0.538521058539\n",
      "X_4 =  0.115056902\n"
     ]
    }
   ],
   "source": [
    "#print a few examples of the RGNs to the screen\n",
    "print_vals(draw_dist4)"
   ]
  },
  {
   "cell_type": "markdown",
   "metadata": {},
   "source": [
    "**Exercise 5**. Let $X$ have a standard Cauchy distribution.\n",
    "function\n",
    "\\begin{equation}\n",
    "F_X(x) = \\frac{1}{\\pi} \\arctan x +\\frac{1}{2}.\n",
    "\\end{equation}\n",
    "\n",
    "Assuming you have $U ∼ Unif(0, 1)$, explain how to generate $X$. Then, use this result\n",
    "to produce 1000 samples of $X$ and compute the sample mean. Repeat the experiment 100\n",
    "times. What do you observe and why?\n",
    "\n",
    "> *Solution*: The inverse CDF is given by $F_X^{-1}(x) = \\tan [\\pi(x -1/2)]$."
   ]
  },
  {
   "cell_type": "code",
   "execution_count": 840,
   "metadata": {},
   "outputs": [],
   "source": [
    "def draw_stand_cauchy(N):\n",
    "    \"\"\"\n",
    "    A standard Cauchy pseudo-RNG using the method of inverse transformation\n",
    "    \"\"\"\n",
    "    U = np.random.uniform(size = N)\n",
    "    X = np.tan(np.pi*(U - 1/2))\n",
    "    \n",
    "    if N == 1: return X[0]\n",
    "    else: return X"
   ]
  },
  {
   "cell_type": "code",
   "execution_count": 841,
   "metadata": {},
   "outputs": [
    {
     "name": "stdout",
     "output_type": "stream",
     "text": [
      "X_0 =  0.691013110859\n",
      "X_1 =  0.212342443875\n",
      "X_2 =  -0.907695727473\n",
      "X_3 =  0.0731660554841\n",
      "X_4 =  -3.28946953204\n"
     ]
    }
   ],
   "source": [
    "#print a few examples of the RGNs to the screen\n",
    "print_vals(draw_stand_cauchy, 1)"
   ]
  },
  {
   "cell_type": "code",
   "execution_count": 842,
   "metadata": {},
   "outputs": [
    {
     "data": {
      "image/png": "[encoded data removed]",
      "text/plain": [
       "<matplotlib.figure.Figure at 0x1089ad9b0>"
      ]
     },
     "metadata": {},
     "output_type": "display_data"
    }
   ],
   "source": [
    "#plot means for 100 trials\n",
    "\n",
    "#set seed for reproducibility \n",
    "np.random.seed(5)\n",
    "\n",
    "#compute means and plot\n",
    "means = [np.mean(np.array(draw_stand_cauchy(1000))) for _ in range(100)]\n",
    "\n",
    "plot_results(range(100), means, xlabel='trial', ylabel='mean', \\\n",
    "             title='Standard Cauchy mean')\n",
    "\n",
    "#reset seed\n",
    "np.random.seed(0)"
   ]
  },
  {
   "cell_type": "markdown",
   "metadata": {},
   "source": [
    "We see that the means for each trial vary wildly.  This is because the Cauchy distribution actually has no mean."
   ]
  },
  {
   "cell_type": "markdown",
   "metadata": {},
   "source": [
    "**Exercise 6**. (The Rejection Method) When we use the Inverse Transformation Method, we need a simple form of the cdf $F(x)$ that allows direct computation of $X = F^{-1}(U)$.  When $F(x)$ doesn’t have a simple form but the pdf $f(x)$ is available, random variables with density $f(x)$ can be generated by the rejection method. Suppose you have a method\n",
    "for generating a random variable having density function $g(x)$. Now, assume you want to generate a random variable having density function $f(x)$. Let $c$ be a constant such that $f(y)/g(y) \\le c$ (for all $y$).  Show that the following method generates a random variable, $X$, with density function $f(x)$.\n",
    "\n",
    " \n",
    "> 1) initialize $U$ and $Y$ such that $U \\le \\frac{f(Y)}{cg(Y)}$\n",
    "\n",
    "**repeat** until $U \\le \\frac{f(Y)}{cg(Y)}$ $\\big \\{$ \n",
    "\n",
    "> 2) Generate $Y$ having density $g$\n",
    "\n",
    "> 3) Generate a random number $U$ from $Unif(0, 1)$\n",
    "\n",
    "$\\big \\}$\n",
    "\n",
    "> 4) Set X = Y"
   ]
  },
  {
   "cell_type": "markdown",
   "metadata": {},
   "source": [
    "> *Solution*:\n",
    "\n",
    "First note that, as a technical matter, $c\\ge 1$, which can be shown by integrating both sides of $f(y)/g(y) \\le c$.\n",
    "\n",
    "We see that this algorithm keeps iterating until it outputs a random variable $Y$, given that we know that $U \\le \\frac{f(Y)}{cg(Y)}$.  Therefore, the goal is to show that the random variable $Y|U \\le \\frac{f(Y)}{cg(Y)}$ has PDF $f(y)$ (or equivalently CDF $F(y)$).  In other words, we must show that $P\\left(Y \\le y \\big|U \\le \\frac{f(Y)}{cg(Y)}\\right) = F(y)$.  I show this with Baye's rule:\n",
    "\n",
    "\\begin{align}\n",
    "P\\left(Y \\le y \\big | U \\le \\frac{f(Y)}{c g(Y)}\\right) & = \\frac{P\\left(U \\le \\frac{f(Y)}{c g(Y)} \\big| Y \\le y\\right) P(Y \\le y)}{P \\left(U \\le \\frac{f(Y)}{c g(Y)}\\right)} \\\\\n",
    "&=\\frac{P\\left(U \\le \\frac{f(Y)}{c g(Y)}\\big| Y \\le y\\right) G(y)}{P \\left(U \\le \\frac{f(Y)}{c g(Y)}\\right)}.\n",
    "\\end{align}\n",
    "Thus, we must calculate the quantities: $P\\left(U \\le \\frac{f(Y)}{c g(Y)}\\big| Y \\le y\\right)$ and $P \\left(U \\le \\frac{f(Y)}{c g(Y)}\\right)$."
   ]
  },
  {
   "cell_type": "markdown",
   "metadata": {},
   "source": [
    "First note that \n",
    "\\begin{align}\n",
    "P\\left(U \\le \\frac{f(Y)}{c g(Y)}\\Big |Y = y\\right) & = P\\left(U \\le \\frac{f(y)}{c g(y)}\\Big |Y = y\\right) \\\\\n",
    "& = P\\left(U \\le \\frac{f(y)}{c g(y)}\\right) \\\\\n",
    "& = F_U\\left(\\frac{f(y)}{c g(y)}\\right) \\\\\n",
    "& = \\frac{f(y)}{c g(y)},\n",
    "\\end{align}\n",
    "where in the second line I have used that $U$ and $Y$ are independent and in the fourth I have used the fact that for a uniform distribution $F_U(u) = u$.  Notice that the requirement that $f(y)/g(y) \\le c$ (for all $y$) is crucial at this step.  This is because $f(y)/g(y) \\le c \\implies c>0$ (since $f(y)$ and $g(y)$ are positive), so that $0 < f(y)/cg(y) \\le 1$.  If this condition did not hold, then the above expression would be $\\min \\{1, \\frac{f(y)}{c g(y)} \\}$, for positive $c$ and 0 for negavtive $c$, which would interfere with the rest of the derivation.\n",
    "\n",
    "I may now calculate $P \\left(U \\le \\frac{f(Y)}{c g(Y)}\\right)$:\n",
    "\n",
    "\\begin{align}\n",
    "P \\left(U \\le \\frac{f(Y)}{c g(Y)}\\right) &= \\int_{-\\infty}^{\\infty} P \\left(U \\le \\frac{f(Y)}{c g(Y)}\\Big|Y=y\\right)g(y)dy \\\\\n",
    "&= \\int_{-\\infty}^{\\infty} \\frac{f(y)}{c g(y)}g(y)dy \\\\\n",
    "&= \\frac{1}{c}\\int_{-\\infty}^{\\infty} f(y)dy \\\\\n",
    "&= \\frac{1}{c}.\n",
    "\\end{align}"
   ]
  },
  {
   "cell_type": "markdown",
   "metadata": {},
   "source": [
    "I now calculate the remaining quantity:\n",
    "\\begin{align}\n",
    "P \\left(U \\le \\frac{f(Y)}{c g(Y)}\\big| Y \\le y\\right) &= \\frac{P \\left(U \\le \\frac{f(Y)}{c g(Y)},Y \\le y\\right)}{G(y)} \\\\\n",
    "&=\\frac{\\int_{-\\infty}^\\infty P \\left(U \\le \\frac{f(Y)}{c g(Y)},Y \\le y \\big | Y =v\\right) g(v)dv}{G(y)} \\\\\n",
    "&=\\frac{\\int_{-\\infty}^\\infty P \\left(U \\le \\frac{f(Y)}{c g(Y)} \\big|Y \\le y,  Y =v\\right) P(Y\\le y| Y=v) g(v)dv}{G(y)},\n",
    "\\end{align}\n",
    "where in the second line I have used the law of total probability and in the third I have used the chain rule of probability.  Note that:\n",
    "\n",
    "\\begin{equation}  \n",
    "    P(Y \\le y|Y=v) = \n",
    "    \\begin{cases}\n",
    "        1 & \\text{for $v \\le y$} \\\\\n",
    "        0 & \\text{for $v>y$},\n",
    "    \\end{cases} \n",
    "\\end{equation}\n",
    "\n",
    "and thus\n",
    "\\begin{align}\n",
    "P \\left(U \\le \\frac{f(Y)}{c g(Y)}\\big| Y \\le y\\right) &= \\frac{P \\left(U \\le \\frac{f(Y)}{c g(Y)},Y \\le y\\right)}{G(y)} \\\\\n",
    "&=\\frac{\\int_{-\\infty}^y P \\left(U \\le \\frac{f(Y)}{c g(Y)} \\big|Y \\le y,  Y =v\\right)g(v)dv}{G(y)} \\\\\n",
    "&=\\frac{\\int_{-\\infty}^y P \\left(U \\le \\frac{f(Y)}{c g(Y)} \\big|Y =v\\right)g(v)dv}{G(y)} \\\\\n",
    "&=\\frac{\\int_{-\\infty}^y \\frac{f(v)}{c g(v)}g(v)dv}{G(y)} \\\\\n",
    "&=\\frac{\\frac{1}{c}F(y)}{G(y)},\n",
    "\\end{align}\n",
    "where in the third line I have used the fact that conditioning on $Y=v$ already implies that $Y \\le y$ since we only consider values of $v$ less than or equal to $y$ in the integration.  In fourth line I have used the expression for $P\\left(U \\le \\frac{f(Y)}{c g(Y)}\\Big |Y = y\\right)$ that we derived above.\n",
    "\n",
    "Inserting these quantities into Baye's rule:\n",
    "\n",
    "\\begin{align}\n",
    "P\\left(Y \\le y \\big | U \\le \\frac{f(Y)}{c g(Y)}\\right) &=\\frac{P\\left(U \\le \\frac{f(Y)}{c g(Y)}\\big| Y \\le y\\right) G(y)}{P \\left(U \\le \\frac{f(Y)}{c g(Y)}\\right)} \\\\ \n",
    "& = \\frac{\\frac{\\frac{1}{c}F(y)}{G(y)} G(y)}{\\frac{1}{c}} \\\\\n",
    "& = F(y),\n",
    "\\end{align}\n",
    "which is what we set out to prove.\n"
   ]
  },
  {
   "cell_type": "markdown",
   "metadata": {},
   "source": [
    "**Exercise 7**.  Use the rejection method to generate a random variable having density function Beta(2, 4). Hint: Assume g(x) = 1 for 0 < x < 1.\n",
    "\n",
    "> *Solution:* I first visualize these distributions so we can get a handle on what we are dealing with."
   ]
  },
  {
   "cell_type": "code",
   "execution_count": 843,
   "metadata": {},
   "outputs": [
    {
     "data": {
      "image/png": "[encoded data removed]",
      "text/plain": [
       "<matplotlib.figure.Figure at 0x10928de80>"
      ]
     },
     "metadata": {},
     "output_type": "display_data"
    }
   ],
   "source": [
    "#plot Beta(2, 4) and Unif(0, 1)\n",
    "from scipy.stats import beta\n",
    "\n",
    "x1, x2 = np.linspace(0, 1, 1000), np.linspace(0, 1, 1000)\n",
    "y1, y2 = beta.pdf(x1, 2, 4), x2*0+1\n",
    "labels = ['Beta(2, 4)', 'Unif(0, 1)']\n",
    "\n",
    "plot_results([x1, x2], [y1, y2], xlim=(0, 1), ylim=(0, 2.5), xlabel='$X$', \\\n",
    "             ylabel='PDF', labels=labels)"
   ]
  },
  {
   "cell_type": "markdown",
   "metadata": {},
   "source": [
    "Since $f(x)/g(x)$ (where $f(x)$ is the PDF of the Beta and $g(x)$ is the PDF of the uniform) needs to be smaller than $c$ for all $x$ in the support of these distributions, a fine value of $c$ to use would be 2.5 since it is evident from the plot that this value satisfies the requirement.  The book uses the smallest possible value of $c$, i.e., the max of the $Beta(2, 4)$ distribution, which it derives analytically and finds to be $135/64 \\approx 2.11$.  It is not necessary to use the smallest value of $c$, but will certainly help the speed of the algorithm since the algorithm only stops when $U \\le f(Y)/cg(Y)$.  I will stick with the value of $2.5$ just to illustrate that the algorithm works for this value as well. "
   ]
  },
  {
   "cell_type": "code",
   "execution_count": 844,
   "metadata": {},
   "outputs": [],
   "source": [
    "def draw_beta_2_4(N):\n",
    "    \"\"\"\n",
    "    A Beta(2, 4) pseudo-RNG using the rejection method\n",
    "    \"\"\"\n",
    "    c=2.5\n",
    "    \n",
    "    X_list = []\n",
    "    for _ in range(N):\n",
    "        \n",
    "        U = 1\n",
    "        f_Y = 0\n",
    "        g_Y =1\n",
    "\n",
    "        while U > f_Y/(c*g_Y):\n",
    "            Y = np.random.uniform()\n",
    "            U = np.random.uniform()\n",
    "\n",
    "            f_Y = 20*Y*(1-Y)**3\n",
    "            g_Y = 1\n",
    "            \n",
    "        X_list.append(Y)\n",
    "\n",
    "    if  N == 1: \n",
    "        return X_list[0]\n",
    "    else: \n",
    "        return X_list"
   ]
  },
  {
   "cell_type": "code",
   "execution_count": 845,
   "metadata": {},
   "outputs": [
    {
     "name": "stdout",
     "output_type": "stream",
     "text": [
      "X_0 =  0.4236547993389047\n",
      "X_1 =  0.07103605819788694\n",
      "X_2 =  0.11827442586893322\n",
      "X_3 =  0.5218483217500717\n",
      "X_4 =  0.26455561210462697\n"
     ]
    }
   ],
   "source": [
    "#print a few examples of the RGNs to the screen\n",
    "print_vals(draw_beta_2_4, 1)"
   ]
  },
  {
   "cell_type": "markdown",
   "metadata": {},
   "source": [
    "**Exercise 8**.  Use the rejection method to generate a random variable having the $Gamma(5/2, 1)$ density function.  Hint: Assume $g(x)$ is the PDF of the $Gamma(1, 2/5)$.\n",
    "> Solution: Note that there is a mistake in the phrasing of the question in the book.  The PDF for $g(x)$ should be $Gamma(1, 2/5)$, *not* $Gamma(5/2, 1)$.  Also note that we cannot use the method that we used in **Example**, 6. since in this case $\\alpha$ is not an integer (however, we can use that method to draw from g(x)).  I first visualize these distributions so we can get a handle on what we are dealing with."
   ]
  },
  {
   "cell_type": "code",
   "execution_count": 846,
   "metadata": {},
   "outputs": [
    {
     "data": {
      "image/png": "[encoded data removed]",
      "text/plain": [
       "<matplotlib.figure.Figure at 0x109499da0>"
      ]
     },
     "metadata": {},
     "output_type": "display_data"
    }
   ],
   "source": [
    "#plot Gamma(5/2, 1) and Gamma(1, 2/5)\n",
    "\n",
    "x1, x2 = np.linspace(0, 20, 1000), np.linspace(0, 20, 1000)\n",
    "f, g = (4/(3*np.sqrt(np.pi)))*(x1**1.5)*np.exp(-x1), 0.4*np.exp(-0.4*x2)\n",
    "labels = ['Gamma(5/2, 1)', 'Gamma(1, 2/5)']\n",
    "\n",
    "\n",
    "plot_results([x1, x2], [f, g], xlim=(0, 15), ylim=(0, 0.4), xlabel='$X$', \\\n",
    "             ylabel='PDF', labels=labels)"
   ]
  },
  {
   "cell_type": "markdown",
   "metadata": {},
   "source": [
    "The $\\ max\\{ f(x)/g(x) \\}$ for $x >0$ is approximately given by:"
   ]
  },
  {
   "cell_type": "code",
   "execution_count": 847,
   "metadata": {},
   "outputs": [
    {
     "data": {
      "text/plain": [
       "1.6587150033103788"
      ]
     },
     "execution_count": 847,
     "metadata": {},
     "output_type": "execute_result"
    }
   ],
   "source": [
    "np.max(f/g)"
   ]
  },
  {
   "cell_type": "markdown",
   "metadata": {},
   "source": [
    "As a sanity check, this value is very close to the analytically derived value in the book, which is$\\frac{10}{3 \\sqrt{\\pi}} \\left(\\frac{5}{2}\\right)^{3/2} \\exp(-3/2) \\approx 1.6587162$.  Therefore, I set the value of $c$ to be 1.7, and use the function I wrote for **Example**. 6, `draw_gamma(alpha, lam, N)` to draw from $g(x)$."
   ]
  },
  {
   "cell_type": "code",
   "execution_count": 848,
   "metadata": {},
   "outputs": [],
   "source": [
    "def draw_gamma_2(alpha, lam, N):\n",
    "    \"\"\"\n",
    "    A Gamma(5/2, 1) pseudo-RNG using the rejection method\n",
    "    \"\"\"\n",
    "    c=1.7\n",
    "    \n",
    "    X_list = []\n",
    "    for _ in range(N):\n",
    "        \n",
    "        U = 1\n",
    "        f_Y = 0\n",
    "        g_Y =1\n",
    "\n",
    "        while U > f_Y/(c*g_Y):\n",
    "            Y = draw_gamma(1, 0.4, 1)\n",
    "            U = np.random.uniform()\n",
    "\n",
    "            f_Y = (4/(3*np.sqrt(np.pi)))*(Y**1.5)*np.exp(-Y)\n",
    "            g_Y = 0.4*np.exp(-0.4*Y)\n",
    "            \n",
    "        X_list.append(Y)\n",
    "\n",
    "    if  N == 1: \n",
    "        return X_list[0]\n",
    "    else: \n",
    "        return X_list"
   ]
  },
  {
   "cell_type": "code",
   "execution_count": 849,
   "metadata": {},
   "outputs": [
    {
     "name": "stdout",
     "output_type": "stream",
     "text": [
      "X_0 =  1.96233211971\n",
      "X_1 =  1.22716649756\n",
      "X_2 =  2.55754781375\n",
      "X_3 =  0.900161721137\n",
      "X_4 =  3.89706921546\n"
     ]
    }
   ],
   "source": [
    "#print a few examples of the RGNs to the screen\n",
    "print_vals(draw_gamma_2, 5/2, 1, 1)"
   ]
  },
  {
   "cell_type": "markdown",
   "metadata": {},
   "source": [
    "**Exercise 9**.  Use the rejection method to generate a standard normal random variable. Hint: Assume\n",
    "$g(x)$ is the pdf of the exponential distribution with $\\lambda = 1$.\n",
    "\n",
    "> *Solutuion* As in the book, to solve this problem, I use the rejection method to sample from a half Gaussian:\n",
    "\\begin{equation}\n",
    "    f(x) = \\frac{2}{\\sqrt{2 \\pi}} e^{-\\frac{x^2}{2}},\n",
    "\\end{equation}\n",
    "with range $(0, \\infty)$, with an $Exp(1)$ distribution for $g(x)$.  The book analytically computes $\\max \\{f(x)/g(x) \\}$ to be $\\sqrt{2 e/\\pi} \\approx 1.32$, and I thus use $c=4$.  Once the algorithm is able to sample from the half Gaussian, to turn this distribution into a full Gaussian with range $\\mathbb R$, one need only to randomly multiply by -1.  I therefore sample $Q$ ($\\in \\{0, 1\\}$) from a $Bern(0.5)$ distribution and multiply by 1-2Q ($\\in \\{-1, 1\\}$) in order to sample from the full Gaussian."
   ]
  },
  {
   "cell_type": "code",
   "execution_count": 850,
   "metadata": {},
   "outputs": [],
   "source": [
    "def draw_standard_normal(N):\n",
    "    \"\"\"\n",
    "    A standard normal pseudo-RNG using the rejection method\n",
    "    \"\"\"\n",
    "    c=1.4\n",
    "    \n",
    "    X_list = []\n",
    "    for _ in range(N):\n",
    "        \n",
    "        U = 1\n",
    "        f_Y = 0\n",
    "        g_Y =1\n",
    "\n",
    "        while U > f_Y/(c*g_Y):\n",
    "            Y = draw_exp(1, 1)\n",
    "            U = np.random.uniform()\n",
    "\n",
    "            f_Y = (2/np.sqrt(2*np.pi))*np.exp(-(Y**2)/2)\n",
    "            g_Y = np.exp(-Y)\n",
    "        \n",
    "        # draw Bern(0.5) random variable for the sign\n",
    "        Q = draw_bern(0.5, 1)\n",
    "  \n",
    "        X_list.append(Y*(1-2*Q))\n",
    "        \n",
    "    if  N == 1: \n",
    "        return X_list[0]\n",
    "    else: \n",
    "        return X_list"
   ]
  },
  {
   "cell_type": "code",
   "execution_count": 851,
   "metadata": {},
   "outputs": [
    {
     "name": "stdout",
     "output_type": "stream",
     "text": [
      "X_0 =  1.1538237197\n",
      "X_1 =  -2.28234324111\n",
      "X_2 =  -0.426012274543\n",
      "X_3 =  -1.40884434358\n",
      "X_4 =  -0.421092193245\n"
     ]
    }
   ],
   "source": [
    "#print a few examples of the RGNs to the screen\n",
    "print_vals(draw_standard_normal, 1)"
   ]
  },
  {
   "cell_type": "markdown",
   "metadata": {},
   "source": [
    "**Exercise 10**.  Use the rejection method to generate a $Gamma(2, 1)$ random variable conditional on its\n",
    "value being greater than 5.  Hint: Assume $g(x)$ be the density function of exponential distribution.\n",
    "\n",
    "> *Solution* As in the book, I use an $Exp(0.5)$ conditioned on $X>5$ as the distribution for $g(x)$.  It is not difficult to show by integrating the PDf of this distribution that $G^{-1}(x) = 5- 2 \\ln(1-x)$ (where $G$ is the CDF).  I therefore use the method of inverse transformation to first draw a random variable from this distribution ($Y$).  Note that for $U\\sim Unif(0, 1)$, $1- U\\sim Unif(0, 1)$, and therefore the formula for $G^{-1}(U)$ can be simplified to $5- 2 \\ln(U)$.  I then use the rejection method to sample from the desired distribution.  By maximizing $f(x)/g(x)$, the book shows that $c$ must be greater than $5/3$, and I therefore use $c=1.7$."
   ]
  },
  {
   "cell_type": "code",
   "execution_count": 852,
   "metadata": {},
   "outputs": [],
   "source": [
    "def draw_gamma_2_1_cond_5(N):\n",
    "    \"\"\"\n",
    "    A Gamma(2, 1) conditional on X>5 pseudo-RNG using the rejection method\n",
    "    \"\"\"\n",
    "    c=1.7\n",
    "    \n",
    "    X_list = []\n",
    "    for _ in range(N):\n",
    "        \n",
    "        U = 1\n",
    "        f_Y = 0\n",
    "        g_Y =1\n",
    "\n",
    "        while U > f_Y/(c*g_Y):\n",
    "            Y = 5 - 2*np.log(np.random.uniform())\n",
    "            U = np.random.uniform()\n",
    "\n",
    "            f_Y = Y*np.exp(5-Y)/6\n",
    "            g_Y = np.exp((5-Y)/2)/2\n",
    "  \n",
    "        X_list.append(Y)\n",
    "        \n",
    "    if  N == 1: \n",
    "        return X_list[0]\n",
    "    else: \n",
    "        return X_list"
   ]
  },
  {
   "cell_type": "code",
   "execution_count": 853,
   "metadata": {},
   "outputs": [
    {
     "name": "stdout",
     "output_type": "stream",
     "text": [
      "X_0 =  6.76250850879\n",
      "X_1 =  5.73497460514\n",
      "X_2 =  5.14665551227\n",
      "X_3 =  5.8087003199\n",
      "X_4 =  5.66723645483\n"
     ]
    }
   ],
   "source": [
    "#print a few examples of the RGNs to the screen\n",
    "print_vals(draw_gamma_2_1_cond_5, 1)"
   ]
  },
  {
   "cell_type": "markdown",
   "metadata": {},
   "source": [
    "Notice that, as required, the random variables are all $> 5$."
   ]
  },
  {
   "cell_type": "markdown",
   "metadata": {},
   "source": [
    "As a final check, I draw samples from the most of the RNG functions that I implemented in this chapter, compute the corresponding PMFs/PDFs, and compare to the theoretical distributions.  I first check the discrete distributions, and I start by implementing a function that will compute the empirical PMFs.  Note that the phrase \"empirical PMF\" (and \"empirical PDF\") is standard terminology to refer to the probability distribution associated with a sample of data.  Formally, they are given by\n",
    "\\begin{equation}\n",
    "    P_X(x) = \\frac{1}{N}\\sum_{i=1}^N \\mathbb 1 \\{x = x_i \\}\n",
    "\\end{equation}\n",
    "for the empirical PMF, and by\n",
    "\\begin{equation}\n",
    "    f_X(x) = \\frac{1}{N}\\sum_{i=1}^N \\delta(x = x_i)\n",
    "\\end{equation}\n",
    "for the empirical PDF (where $\\mathbb 1 \\{\\cdot \\}$ is the indicator function, and $\\delta ( \\cdot )$ is the delta function)."
   ]
  },
  {
   "cell_type": "code",
   "execution_count": 854,
   "metadata": {},
   "outputs": [],
   "source": [
    "def compute_PMFs(counts, xrange):\n",
    "    \"\"\"\n",
    "    Compute empirical PMFs from a specified array of random variables, \n",
    "    and a specified range\n",
    "    \"\"\"\n",
    "    count_arr = []\n",
    "    xrange2 = range(np.max([np.max(xrange), np.max(counts)])+1)\n",
    "    for i in xrange2:\n",
    "        count_arr.append(np.sum(counts==i))\n",
    "    pmf = np.array(count_arr)/np.sum(np.array(count_arr))\n",
    "    return pmf[np.min(xrange):np.max(xrange)+1]"
   ]
  },
  {
   "cell_type": "markdown",
   "metadata": {},
   "source": [
    "Now I compute the theoretical distributions, generate the data and compute the empirical distributions."
   ]
  },
  {
   "cell_type": "code",
   "execution_count": 855,
   "metadata": {},
   "outputs": [],
   "source": [
    "from scipy.stats import bernoulli, binom, poisson, geom, nbinom\n",
    "#set seed for reproducibility\n",
    "np.random.seed(1984)\n",
    "\n",
    "x_ranges = [range(2), range(26), range(9), range(1, 11), range(4, 26), range(9)]\n",
    "\n",
    "#compute PMF arrays for the theoretical distributions\n",
    "numpy_dists = [bernoulli, binom, poisson, geom, nbinom, poisson]\n",
    "numpy_args = [[0.5], [50, 0.2], [1], [0.5], [4, 0.5, 4], [1]]\n",
    "numpy_y = [np_dist.pmf(xrange, *np_args) for np_dist, xrange, np_args in \\\n",
    "           zip(numpy_dists, x_ranges, numpy_args)]\n",
    "\n",
    "N = 1000 #number of points to sample\n",
    "\n",
    "# draw random variables from my functions and compute corresponding PMFs\n",
    "my_rngs = [draw_bern, draw_bin, draw_poiss, draw_geom, draw_pascal, draw_poiss2]\n",
    "my_args = [[0.5, N], [50, 0.2, N], [1, N], [0.5, N], [4, 0.5, N], [1, N]]\n",
    "my_counts = [rng(*args) for rng, args in zip(my_rngs, my_args)]\n",
    "my_y = [compute_PMFs(np.array(counts), xrange) for counts, xrange in \\\n",
    "        zip(my_counts, x_ranges)]"
   ]
  },
  {
   "cell_type": "markdown",
   "metadata": {},
   "source": [
    "Finally, I plot the results."
   ]
  },
  {
   "cell_type": "code",
   "execution_count": 856,
   "metadata": {},
   "outputs": [
    {
     "data": {
      "image/png": "[encoded data removed]",
      "text/plain": [
       "<matplotlib.figure.Figure at 0x10aca8048>"
      ]
     },
     "metadata": {},
     "output_type": "display_data"
    }
   ],
   "source": [
    "#plot theoretical and empirical PMFs\n",
    "names = ['Bern(0.5)', 'Bin(50, 0.2)', 'Poiss(1)', 'Geom(0.5)', 'Pascal(4, 0.5)', \\\n",
    "         'Poiss(1) (discrete RV method)']\n",
    "legend_loc = ['upper right']*6\n",
    "legend_loc[0] = 'upper center' \n",
    "\n",
    "f, [[ax1, ax2, ax3], [ax4, ax5, ax6]] = plt.subplots(2, 3, figsize=(15, 10))\n",
    "ax_arr = [ax1, ax2, ax3, ax4, ax5, ax6]\n",
    "\n",
    "for i, ax in enumerate(ax_arr):\n",
    "    ax.plot(x_ranges[i], numpy_y[i], 'bo', ms=8, label='Theoretical Dist.', \\\n",
    "            alpha=.8)\n",
    "    ax.vlines(x_ranges[i], 0, numpy_y[i], colors='b', lw=5, alpha=0.5)\n",
    "    ax.plot(x_ranges[i], my_y[i], 'bo', ms=8, label='Empirical Dist.', \\\n",
    "            color='green', alpha=.8)\n",
    "    \n",
    "    ax.legend(loc=legend_loc[i], fontsize=11)\n",
    "    ax.set_title(names[i], size = 15)\n",
    "    ax.set_ylim(ymin=0)\n",
    "    ax.tick_params(labelsize=15)\n",
    "    \n",
    "    if i in [3, 4, 5]:\n",
    "        ax.set_xlabel('$X$', size = 15)\n",
    "    if i in [0, 3]:\n",
    "        ax.set_ylabel('PMF', size = 15)"
   ]
  },
  {
   "cell_type": "markdown",
   "metadata": {},
   "source": [
    "We see that the empirical distributions match almost perfectly with the theoretical distributions, and even closer correspondence for larger $N$.  \n",
    "\n",
    "I now check some of the continuous RNG functions I implemented in this chapter.  I first start by computing the theoretical distributions and generating the data."
   ]
  },
  {
   "cell_type": "code",
   "execution_count": 857,
   "metadata": {},
   "outputs": [],
   "source": [
    "from scipy.stats import expon, gamma, cauchy, beta, norm\n",
    "\n",
    "x_ranges = [np.linspace(0, 8, 1000), np.linspace(0, 50, 1000), \\\n",
    "            np.linspace(-20, 20, 1000), np.linspace(0, 1, 1000), \\\n",
    "            np.linspace(0, 15, 1000), np.linspace(-5, 5, 1000)]\n",
    "\n",
    "#compute PMF arrays for the theoretical distributions\n",
    "numpy_dists = [expon, gamma, cauchy, beta, gamma, norm]\n",
    "numpy_args = [[0, 1], [20, 0, 1], [], [2, 4], [5/2, 0, 1], []]\n",
    "numpy_y = [np_dist.pdf(xrange, *np_args) for np_dist, xrange, np_args in \\\n",
    "           zip(numpy_dists, x_ranges, numpy_args)]\n",
    "\n",
    "N = 1000 #number of points to sample\n",
    "# draw random variables from my functions to be plotted as histograms in next cell\n",
    "my_rngs = [draw_exp, draw_gamma, draw_stand_cauchy, draw_beta_2_4, draw_gamma_2, \\\n",
    "           draw_standard_normal]\n",
    "my_args = [[1, N], [20, 1, N], [N], [N], [5/2, 1, N], [N]]\n",
    "my_rvs = [rng(*args) for rng, args in zip(my_rngs, my_args)]\n",
    "\n",
    "#reset seed\n",
    "np.random.seed(0)"
   ]
  },
  {
   "cell_type": "markdown",
   "metadata": {},
   "source": [
    "I now plot normalized histograms of the data and compare to the theoretical distributions.  Again, we see almost perfect correspondence between the empirical and theoretica distributions.  The correspondence becomes even better with larger values of $N$."
   ]
  },
  {
   "cell_type": "code",
   "execution_count": 858,
   "metadata": {},
   "outputs": [
    {
     "data": {
      "image/png": "[encoded data removed]",
      "text/plain": [
       "<matplotlib.figure.Figure at 0x108c88d68>"
      ]
     },
     "metadata": {},
     "output_type": "display_data"
    }
   ],
   "source": [
    "#plot theoretical and empirical PDFs\n",
    "names = ['Exp(1) (inverse trans.)', 'Gamma(20, 1) (inverse trans.)', \\\n",
    "         'Cauchy(0, 1) (inverse trans.)', 'Beta(2, 4) (rejection)', \\\n",
    "         'Gamma(5/2, 1) (rejection)', 'N(0, 1) (rejection)'] \n",
    "bin_arr = [50, 30, 60, 45, 45, 35]\n",
    "xlims=[(0, 8), (0, 50), (-20, 20), (0, 1), (0, 15), (-5, 5)]\n",
    "range_arr = [None]*6\n",
    "range_arr[2] = (-20, 20)\n",
    "\n",
    "f, [[ax1, ax2, ax3], [ax4, ax5, ax6]] = plt.subplots(2, 3, figsize=(15, 10))\n",
    "ax_arr = [ax1, ax2, ax3, ax4, ax5, ax6]\n",
    "\n",
    "for i, ax in enumerate(ax_arr):\n",
    "    ax.plot(x_ranges[i], numpy_y[i], label='Theoretical Dist.', color='black', \\\n",
    "            linewidth=3, alpha=.7)\n",
    "    ax.hist(my_rvs[i], bins=bin_arr[i], alpha=.5, edgecolor='black',normed=True, \\\n",
    "            label='Empirical Dist.', range=range_arr[i])\n",
    "    \n",
    "    ax.set_title(names[i], size = 15)\n",
    "    ax.legend(loc='upper right', fontsize=10)\n",
    "    ax.set_xlim(xlims[i])\n",
    "    ax.tick_params(labelsize=15)\n",
    "    \n",
    "    if i in [3, 4, 5]:\n",
    "        ax.set_xlabel('$X$', size = 15)\n",
    "    if i in [0, 3]:\n",
    "        ax.set_ylabel('PDF', size = 15)"
   ]
  }
 ],
 "metadata": {
  "kernelspec": {
   "display_name": "Python 3",
   "language": "python",
   "name": "python3"
  },
  "language_info": {
   "codemirror_mode": {
    "name": "ipython",
    "version": 3
   },
   "file_extension": ".py",
   "mimetype": "text/x-python",
   "name": "python",
   "nbconvert_exporter": "python",
   "pygments_lexer": "ipython3",
   "version": "3.5.3"
  }
 },
 "nbformat": 4,
 "nbformat_minor": 2
}
