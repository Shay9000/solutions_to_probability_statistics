{
 "cells": [
  {
   "cell_type": "code",
   "execution_count": 13,
   "metadata": {},
   "outputs": [
    {
     "data": {
      "text/plain": [
       "('full', 'left', 'right', 'bottom', 'top', 'none')"
      ]
     },
     "execution_count": 13,
     "metadata": {},
     "output_type": "execute_result"
    }
   ],
   "source": [
    "import matplotlib.mlab as mlab\n",
    "import matplotlib.pyplot as plt\n",
    "import numpy as np\n",
    "%matplotlib inline\n",
    "from matplotlib.lines import Line2D\n",
    "Line2D.fillStyles"
   ]
  },
  {
   "cell_type": "code",
   "execution_count": 30,
   "metadata": {},
   "outputs": [
    {
     "data": {
      "image/png": "[encoded data removed]",
      "text/plain": [
       "<matplotlib.figure.Figure at 0x1089d0ef0>"
      ]
     },
     "metadata": {},
     "output_type": "display_data"
    }
   ],
   "source": [
    "plt.figure(1, figsize=(7, 4))\n",
    "plt.rc('text', usetex=True)\n",
    "plt.rc('font', family='serif')\n",
    "\n",
    "eps=.08\n",
    "\n",
    "x1 = np.linspace(-10, (-2-eps), 1000)\n",
    "x2 = np.linspace(-2, (-1-eps), 1000)\n",
    "x3 = np.linspace(-1, (0-eps), 1000)\n",
    "x4 = np.linspace(0, (1-eps), 1000)\n",
    "x5 = np.linspace(1, (2-eps), 1000)\n",
    "x6 = np.linspace(2, (5-eps), 1000)\n",
    "\n",
    "\n",
    "plt.plot(x1, x1*0, color='black')\n",
    "plt.plot(x2, x1*0+.2, color='black')\n",
    "plt.plot(x3, x1*0+.5, color='black')\n",
    "plt.plot(x4, x1*0+.7, color='black')\n",
    "plt.plot(x5, x1*0+.9, color='black')\n",
    "plt.plot(x6, x1*0+1, color='black')\n",
    "\n",
    "plt.plot(-2, 0, marker=\"o\", markersize=7, fillstyle=\"none\", color=\"black\")\n",
    "plt.plot(-1, .2, marker=\"o\", markersize=7, fillstyle=\"none\", color=\"black\")\n",
    "plt.plot(0, .5, marker=\"o\", markersize=7, fillstyle=\"none\", color=\"black\")\n",
    "plt.plot(1, .7, marker=\"o\", markersize=7, fillstyle=\"none\", color=\"black\")\n",
    "plt.plot(2, .9, marker=\"o\", markersize=7, fillstyle=\"none\", color=\"black\");\n",
    "\n",
    "plt.plot(-2, .2, marker=\"o\", markersize=7, color=\"black\")\n",
    "plt.plot(-1, .5, marker=\"o\", markersize=7, color=\"black\")\n",
    "plt.plot(0, .7, marker=\"o\", markersize=7, color=\"black\")\n",
    "plt.plot(1, .9, marker=\"o\", markersize=7, color=\"black\")\n",
    "plt.plot(2, 1, marker=\"o\", markersize=7, color=\"black\")\n",
    "\n",
    "plt.xlim((-4, 4))\n",
    "plt.xlabel(r'$x$', size=20);\n",
    "plt.ylabel(r'$F_X(x)$', size=20)\n",
    "\n",
    "plt.tight_layout()\n",
    "plt.savefig('prob12.pdf', format='pdf');"
   ]
  },
  {
   "cell_type": "code",
   "execution_count": null,
   "metadata": {},
   "outputs": [],
   "source": []
  }
 ],
 "metadata": {
  "kernelspec": {
   "display_name": "Python 3",
   "language": "python",
   "name": "python3"
  },
  "language_info": {
   "codemirror_mode": {
    "name": "ipython",
    "version": 3
   },
   "file_extension": ".py",
   "mimetype": "text/x-python",
   "name": "python",
   "nbconvert_exporter": "python",
   "pygments_lexer": "ipython3",
   "version": "3.5.3"
  }
 },
 "nbformat": 4,
 "nbformat_minor": 2
}
